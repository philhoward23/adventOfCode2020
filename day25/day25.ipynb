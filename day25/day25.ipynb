{
 "cells": [
  {
   "cell_type": "markdown",
   "metadata": {},
   "source": [
    "Part 1: cryptographic key"
   ]
  },
  {
   "cell_type": "code",
   "execution_count": 22,
   "metadata": {},
   "outputs": [],
   "source": [
    "door_public = 9232416\n",
    "key_public = 14144084\n",
    "subject_number = 7\n",
    "date = 20201227"
   ]
  },
  {
   "cell_type": "code",
   "execution_count": 21,
   "metadata": {},
   "outputs": [],
   "source": [
    "#test input\n",
    "door_public = 17807724\n",
    "key_public = 5764801\n",
    "subject_number = 7\n",
    "date = 20201227"
   ]
  },
  {
   "cell_type": "code",
   "execution_count": 18,
   "metadata": {},
   "outputs": [],
   "source": [
    "def transform_value(value, subject_number, date):\n",
    "    value = value * subject_number\n",
    "    value = value % date\n",
    "    return(value)\n",
    "        "
   ]
  },
  {
   "cell_type": "code",
   "execution_count": 23,
   "metadata": {},
   "outputs": [
    {
     "name": "stdout",
     "output_type": "stream",
     "text": [
      "7\n",
      "49\n",
      "343\n",
      "2401\n",
      "16807\n",
      "117649\n",
      "823543\n",
      "5764801\n",
      "20152380\n",
      "19859298\n",
      "17807724\n"
     ]
    }
   ],
   "source": [
    "#examples\n",
    "value = 1\n",
    "for ii in range(11):\n",
    "    value = transform_value(value, subject_number, date)\n",
    "    print(value)"
   ]
  },
  {
   "cell_type": "code",
   "execution_count": 24,
   "metadata": {},
   "outputs": [
    {
     "name": "stdout",
     "output_type": "stream",
     "text": [
      "8927518 9232416\n",
      "13240670 14144084\n"
     ]
    }
   ],
   "source": [
    "#find number of transforms needed to get input public keys\n",
    "found = []\n",
    "value = 1\n",
    "ii = 0\n",
    "while len(found) < 2:\n",
    "    ii += 1\n",
    "    value = transform_value(value, subject_number, date)\n",
    "    #print(value)\n",
    "    if value in (door_public, key_public):\n",
    "        found.append(ii)\n",
    "        print (ii, value)"
   ]
  },
  {
   "cell_type": "code",
   "execution_count": 25,
   "metadata": {},
   "outputs": [
    {
     "name": "stdout",
     "output_type": "stream",
     "text": [
      "1478097\n"
     ]
    }
   ],
   "source": [
    "value = 1\n",
    "for jj in range(found[0]):\n",
    "    value = transform_value(value, max([door_public,key_public]), date)\n",
    "    \n",
    "print(value)"
   ]
  },
  {
   "cell_type": "code",
   "execution_count": null,
   "metadata": {},
   "outputs": [],
   "source": []
  }
 ],
 "metadata": {
  "kernelspec": {
   "display_name": "Python 3",
   "language": "python",
   "name": "python3"
  },
  "language_info": {
   "codemirror_mode": {
    "name": "ipython",
    "version": 3
   },
   "file_extension": ".py",
   "mimetype": "text/x-python",
   "name": "python",
   "nbconvert_exporter": "python",
   "pygments_lexer": "ipython3",
   "version": "3.8.1"
  }
 },
 "nbformat": 4,
 "nbformat_minor": 4
}
