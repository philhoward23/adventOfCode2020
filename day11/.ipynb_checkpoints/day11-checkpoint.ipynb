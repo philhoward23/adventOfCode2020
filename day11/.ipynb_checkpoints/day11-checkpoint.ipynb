{
 "cells": [
  {
   "cell_type": "markdown",
   "metadata": {},
   "source": [
    "Part 1: find stable seating pattern"
   ]
  },
  {
   "cell_type": "code",
   "execution_count": 190,
   "metadata": {},
   "outputs": [],
   "source": [
    "input=open(\"input.txt\")\n",
    "input = input.readlines()\n",
    "input = [list(x.strip()) for x in input]\n"
   ]
  },
  {
   "cell_type": "code",
   "execution_count": 191,
   "metadata": {},
   "outputs": [
    {
     "name": "stdout",
     "output_type": "stream",
     "text": [
      "93\n",
      "90\n",
      "['L.LLLLLLLLLL.LLLLLLLLL.LLLLLLLLL.LLL.LL.LLLLLLLLL.LLLLLL.LLLL.LL..LLLL.LLLL.LLL.LL.LLLLLLL', '.LLLL.L.LLLLLLL.LLLLLLLLLLLLLLL..LLLLLL.LLLLLLLLL.LLLLLL.LLLLLLL.LLLLLLLLLL.LLLLLLLLLLLLLL', 'LLLLLLLL.LLL.LLLL.LLLL.LLLLLLLLL.LLLLLLLLLLLLLLLL.LLLLLL.LLLLLLLLL.LLL.LLLL.LLLLLLLLLLLLLL', 'LLLLL..LL.LL.LLLLLLLLLLLLLLLLLLLLLLLLLL.LLLLLLLLL.LLLLLLLLLLLLLL.LLLLLLL.LLLLLLLLL.LLLLLLL', 'LLLLL.L.LLLLLLLL.LLLLL.LLLLLLLLLLLLLLLL.LLLLLLLLLLLLLLLL.LLLLLLL.LLLLL.LLLLLLLLLLLLLLLLLLL', 'LLLLL..L..L.L........L....L.L..LLL...L....L.....L...L..L.....LLL.L..L..LLL...L.LLL...L..L.', 'LLLLL.LLLLLL.LLLLLLLLLLLLLLLLLLLLL.LLLL.LLLLLL.LL.LLLLLL.LLLLLLL.LLLLL.LLLL.LLLLLLLLLLLLLL', 'LLLLL.LLLLLL.LLLLLLLLLLLLLLLLLL..LLLLLL.L.LLL.LLLLLLLLLLLLLLLLLL..LLLL.LLLL.LLLLLL.LLLLLLL', 'LLLLL.LLL.LLLLLLLLLLLL.LLLLLLLLLLLLLLLL.LLLLLLLLLLLLLLLL.LLLLLLL.LLLLLLL.LL.LLLLLLLLLLLLLL', 'LLLLLLLLLLLLLLLLLLLLLL.LLLLLLLL..LLLLLL.LLLLLLLLLL.LLLLL.LLLLLLLLLLLLL.LLLL.LLLLLL.L.LLLLL']\n"
     ]
    }
   ],
   "source": [
    "print(len(input))\n",
    "print(len(input[1]))\n",
    "print([''.join(row) for row in input[:10]])"
   ]
  },
  {
   "cell_type": "markdown",
   "metadata": {},
   "source": [
    "#rules\n",
    "\n",
    "If a seat is empty (L) and there are no occupied seats adjacent to it, the seat becomes occupied.\n",
    "\n",
    "If a seat is occupied (#) and four or more seats adjacent to it are also occupied, the seat becomes empty.\n",
    "\n",
    "Otherwise, the seat's state does not change.\n",
    "\n",
    "Floor (.) never changes; seats don't move, and nobody sits on the floor."
   ]
  },
  {
   "cell_type": "code",
   "execution_count": 133,
   "metadata": {},
   "outputs": [],
   "source": [
    "def update_seat(layout,x,y):\n",
    "    #check neighbours and return the updated occupancy\n",
    "    min_y = max(y-1,0)\n",
    "    max_y = min(y+1,len(layout)-1)\n",
    "    min_x = max(x-1,0)\n",
    "    max_x = min(x+1,len(layout[0])-1)\n",
    "    neighbours = 0\n",
    "    for tmp_y in range(min_y,max_y+1):\n",
    "        for tmp_x in range(min_x,max_x+1):\n",
    "            if layout[tmp_y][tmp_x] == '#':\n",
    "                neighbours += 1\n",
    "    #remove current seat if occupied and return new state\n",
    "    if (layout[y][x] == '#') and neighbours > 4:\n",
    "        return('L')\n",
    "    elif (layout[y][x] == 'L') and neighbours == 0:\n",
    "        return('#')\n",
    "    else:\n",
    "        return(layout[y][x])"
   ]
  },
  {
   "cell_type": "code",
   "execution_count": 134,
   "metadata": {},
   "outputs": [],
   "source": [
    "import copy\n",
    "def update_seats(layout):\n",
    "    new_layout = copy.deepcopy(layout)\n",
    "    for row in range(len(layout)):\n",
    "        for seat in range(len(layout[0])):\n",
    "            new_layout[row][seat] = update_seat(layout,seat,row)\n",
    "    return(new_layout)\n",
    "    "
   ]
  },
  {
   "cell_type": "code",
   "execution_count": 135,
   "metadata": {},
   "outputs": [],
   "source": [
    "#update_seats(input)"
   ]
  },
  {
   "cell_type": "code",
   "execution_count": 136,
   "metadata": {},
   "outputs": [
    {
     "name": "stdout",
     "output_type": "stream",
     "text": [
      "1\n",
      "[['#', '.', '#', '#', '.', '#', '#', '.', '#', '#'], ['#', '#', '#', '#', '#', '#', '#', '.', '#', '#'], ['#', '.', '#', '.', '#', '.', '.', '#', '.', '.'], ['#', '#', '#', '#', '.', '#', '#', '.', '#', '#'], ['#', '.', '#', '#', '.', '#', '#', '.', '#', '#'], ['#', '.', '#', '#', '#', '#', '#', '.', '#', '#'], ['.', '.', '#', '.', '#', '.', '.', '.', '.', '.'], ['#', '#', '#', '#', '#', '#', '#', '#', '#', '#'], ['#', '.', '#', '#', '#', '#', '#', '#', '.', '#'], ['#', '.', '#', '#', '#', '#', '#', '.', '#', '#']]\n",
      "2\n",
      "[['#', '.', 'L', 'L', '.', 'L', '#', '.', '#', '#'], ['#', 'L', 'L', 'L', 'L', 'L', 'L', '.', 'L', '#'], ['L', '.', 'L', '.', 'L', '.', '.', 'L', '.', '.'], ['#', 'L', 'L', 'L', '.', 'L', 'L', '.', 'L', '#'], ['#', '.', 'L', 'L', '.', 'L', 'L', '.', 'L', 'L'], ['#', '.', 'L', 'L', 'L', 'L', '#', '.', '#', '#'], ['.', '.', 'L', '.', 'L', '.', '.', '.', '.', '.'], ['#', 'L', 'L', 'L', 'L', 'L', 'L', 'L', 'L', '#'], ['#', '.', 'L', 'L', 'L', 'L', 'L', 'L', '.', 'L'], ['#', '.', '#', 'L', 'L', 'L', 'L', '.', '#', '#']]\n",
      "3\n",
      "[['#', '.', '#', '#', '.', 'L', '#', '.', '#', '#'], ['#', 'L', '#', '#', '#', 'L', 'L', '.', 'L', '#'], ['L', '.', '#', '.', '#', '.', '.', '#', '.', '.'], ['#', 'L', '#', '#', '.', '#', '#', '.', 'L', '#'], ['#', '.', '#', '#', '.', 'L', 'L', '.', 'L', 'L'], ['#', '.', '#', '#', '#', 'L', '#', '.', '#', '#'], ['.', '.', '#', '.', '#', '.', '.', '.', '.', '.'], ['#', 'L', '#', '#', '#', '#', '#', '#', 'L', '#'], ['#', '.', 'L', 'L', '#', '#', '#', 'L', '.', 'L'], ['#', '.', '#', 'L', '#', '#', '#', '.', '#', '#']]\n",
      "4\n",
      "[['#', '.', '#', 'L', '.', 'L', '#', '.', '#', '#'], ['#', 'L', 'L', 'L', '#', 'L', 'L', '.', 'L', '#'], ['L', '.', 'L', '.', 'L', '.', '.', '#', '.', '.'], ['#', 'L', 'L', 'L', '.', '#', '#', '.', 'L', '#'], ['#', '.', 'L', 'L', '.', 'L', 'L', '.', 'L', 'L'], ['#', '.', 'L', 'L', '#', 'L', '#', '.', '#', '#'], ['.', '.', 'L', '.', 'L', '.', '.', '.', '.', '.'], ['#', 'L', '#', 'L', 'L', 'L', 'L', '#', 'L', '#'], ['#', '.', 'L', 'L', 'L', 'L', 'L', 'L', '.', 'L'], ['#', '.', '#', 'L', '#', 'L', '#', '.', '#', '#']]\n",
      "5\n",
      "[['#', '.', '#', 'L', '.', 'L', '#', '.', '#', '#'], ['#', 'L', 'L', 'L', '#', 'L', 'L', '.', 'L', '#'], ['L', '.', '#', '.', 'L', '.', '.', '#', '.', '.'], ['#', 'L', '#', '#', '.', '#', '#', '.', 'L', '#'], ['#', '.', '#', 'L', '.', 'L', 'L', '.', 'L', 'L'], ['#', '.', '#', 'L', '#', 'L', '#', '.', '#', '#'], ['.', '.', 'L', '.', 'L', '.', '.', '.', '.', '.'], ['#', 'L', '#', 'L', '#', '#', 'L', '#', 'L', '#'], ['#', '.', 'L', 'L', 'L', 'L', 'L', 'L', '.', 'L'], ['#', '.', '#', 'L', '#', 'L', '#', '.', '#', '#']]\n",
      "6\n",
      "[['#', '.', '#', 'L', '.', 'L', '#', '.', '#', '#'], ['#', 'L', 'L', 'L', '#', 'L', 'L', '.', 'L', '#'], ['L', '.', '#', '.', 'L', '.', '.', '#', '.', '.'], ['#', 'L', '#', '#', '.', '#', '#', '.', 'L', '#'], ['#', '.', '#', 'L', '.', 'L', 'L', '.', 'L', 'L'], ['#', '.', '#', 'L', '#', 'L', '#', '.', '#', '#'], ['.', '.', 'L', '.', 'L', '.', '.', '.', '.', '.'], ['#', 'L', '#', 'L', '#', '#', 'L', '#', 'L', '#'], ['#', '.', 'L', 'L', 'L', 'L', 'L', 'L', '.', 'L'], ['#', '.', '#', 'L', '#', 'L', '#', '.', '#', '#']]\n"
     ]
    }
   ],
   "source": [
    "next_layout = copy.deepcopy(input)\n",
    "ii = 0\n",
    "while next_layout != layout:\n",
    "    layout = copy.deepcopy(next_layout)\n",
    "    next_layout = update_seats(layout)\n",
    "    ii+=1\n",
    "    print(ii)\n",
    "    print(next_layout)"
   ]
  },
  {
   "cell_type": "code",
   "execution_count": 137,
   "metadata": {},
   "outputs": [
    {
     "name": "stdout",
     "output_type": "stream",
     "text": [
      "['#.#L.L#.##', '#LLL#LL.L#', 'L.#.L..#..', '#L##.##.L#', '#.#L.LL.LL', '#.#L#L#.##', '..L.L.....', '#L#L##L#L#', '#.LLLLLL.L', '#.#L#L#.##']\n"
     ]
    }
   ],
   "source": [
    "print([''.join(row) for row in next_layout])"
   ]
  },
  {
   "cell_type": "code",
   "execution_count": 138,
   "metadata": {},
   "outputs": [
    {
     "name": "stdout",
     "output_type": "stream",
     "text": [
      "['#.#L.L#.##', '#LLL#LL.L#', 'L.#.L..#..', '#L##.##.L#', '#.#L.LL.LL', '#.#L#L#.##', '..L.L.....', '#L#L##L#L#', '#.LLLLLL.L', '#.#L#L#.##']\n"
     ]
    }
   ],
   "source": [
    "print([''.join(row) for row in update_seats(next_layout)])"
   ]
  },
  {
   "cell_type": "code",
   "execution_count": 139,
   "metadata": {},
   "outputs": [
    {
     "data": {
      "text/plain": [
       "37"
      ]
     },
     "execution_count": 139,
     "metadata": {},
     "output_type": "execute_result"
    }
   ],
   "source": [
    "sum([row.count('#') for row in update_seats(next_layout)])"
   ]
  },
  {
   "cell_type": "markdown",
   "metadata": {},
   "source": [
    "part 2: extend to first seat in line for each direction; up to 5 occupied is ok to stay so"
   ]
  },
  {
   "cell_type": "code",
   "execution_count": 197,
   "metadata": {},
   "outputs": [],
   "source": [
    "def update_seat_2(layout,x,y):\n",
    "    #check neighbours and return the updated occupancy\n",
    "    max_y = len(layout)-1\n",
    "    max_x = len(layout[0])-1\n",
    "    neighbours = 0\n",
    "    #N\n",
    "    for jj in range(y):\n",
    "        if layout[y-1-jj][x] == 'L':\n",
    "            break\n",
    "        if layout[y-1-jj][x] == '#':\n",
    "            #print(\"N\")\n",
    "            neighbours += 1\n",
    "            break\n",
    "    #NE\n",
    "    for jj in range(min(y,max_x-x)):\n",
    "        if layout[y-1-jj][x+1+jj] == 'L':\n",
    "            break\n",
    "        if layout[y-1-jj][x+1+jj] == '#':\n",
    "            #print(\"NE\")\n",
    "            neighbours += 1\n",
    "            break    \n",
    "    #E\n",
    "    for jj in range(max_x-x):\n",
    "        if layout[y][x+1+jj] == 'L':\n",
    "            break\n",
    "        if layout[y][x+1+jj] == '#':\n",
    "            neighbours += 1\n",
    "            break    \n",
    "    #SE\n",
    "    for jj in range(min(max_y-y,max_x-x)):\n",
    "        if layout[y+1+jj][x+1+jj] == 'L':\n",
    "            break\n",
    "        if layout[y+1+jj][x+1+jj] == '#':\n",
    "            neighbours += 1\n",
    "            break               \n",
    "    #S\n",
    "    for jj in range(max_y-y):\n",
    "        if layout[y+1+jj][x] == 'L':\n",
    "            break\n",
    "        if layout[y+1+jj][x] == '#':\n",
    "            neighbours += 1\n",
    "            break  \n",
    "    #SW\n",
    "    for jj in range(min(max_y-y,x)):\n",
    "        if layout[y+1+jj][x-1-jj] == 'L':\n",
    "            break\n",
    "        if layout[y+1+jj][x-1-jj] == '#':\n",
    "            neighbours += 1\n",
    "            break     \n",
    "    #W\n",
    "    for jj in range(x):\n",
    "        if layout[y][x-1-jj] == 'L':\n",
    "            break\n",
    "        if layout[y][x-1-jj] == '#':\n",
    "            #print(\"W\")\n",
    "            neighbours += 1\n",
    "            break    \n",
    "    #NW\n",
    "    for jj in range(min(y,x)):\n",
    "        if layout[y-1-jj][x-1-jj] == 'L':\n",
    "            break\n",
    "        if layout[y-1-jj][x-1-jj] == '#':\n",
    "            #print(\"NW\")\n",
    "            neighbours += 1\n",
    "            break                  \n",
    "    #return new state\n",
    "    if (layout[y][x] == '#') and neighbours > 4:\n",
    "        #print(neighbours)\n",
    "        return('L')\n",
    "    elif (layout[y][x] == 'L') and neighbours == 0:\n",
    "        return('#')\n",
    "    else:\n",
    "        return(layout[y][x])"
   ]
  },
  {
   "cell_type": "code",
   "execution_count": 198,
   "metadata": {},
   "outputs": [],
   "source": [
    "import copy\n",
    "def update_seats_2(layout):\n",
    "    new_layout = copy.deepcopy(layout)\n",
    "    for row in range(len(layout)):\n",
    "        for seat in range(len(layout[0])):\n",
    "            new_layout[row][seat] = update_seat_2(layout,seat,row)\n",
    "    return(new_layout)\n",
    "    "
   ]
  },
  {
   "cell_type": "code",
   "execution_count": 200,
   "metadata": {},
   "outputs": [
    {
     "name": "stdout",
     "output_type": "stream",
     "text": [
      "1\n",
      "2\n",
      "3\n",
      "4\n",
      "5\n",
      "6\n",
      "7\n",
      "8\n",
      "9\n",
      "10\n",
      "11\n",
      "12\n",
      "13\n",
      "14\n",
      "15\n",
      "16\n",
      "17\n",
      "18\n",
      "19\n",
      "20\n",
      "21\n",
      "22\n",
      "23\n",
      "24\n",
      "25\n",
      "26\n",
      "27\n",
      "28\n",
      "29\n",
      "30\n",
      "31\n",
      "32\n",
      "33\n",
      "34\n",
      "35\n",
      "36\n",
      "37\n",
      "38\n",
      "39\n",
      "40\n",
      "41\n",
      "42\n",
      "43\n",
      "44\n",
      "45\n",
      "46\n",
      "47\n",
      "48\n",
      "49\n",
      "50\n",
      "51\n",
      "52\n",
      "53\n",
      "54\n",
      "55\n",
      "56\n",
      "57\n",
      "58\n",
      "59\n",
      "60\n",
      "61\n",
      "62\n",
      "63\n",
      "64\n",
      "65\n",
      "66\n",
      "67\n",
      "68\n",
      "69\n",
      "70\n",
      "71\n",
      "72\n",
      "73\n",
      "74\n",
      "75\n",
      "76\n",
      "77\n",
      "78\n",
      "79\n",
      "80\n",
      "81\n",
      "82\n",
      "83\n"
     ]
    }
   ],
   "source": [
    "next_layout = copy.deepcopy(input)\n",
    "ii = 0\n",
    "while next_layout != layout:\n",
    "    layout = copy.deepcopy(next_layout)\n",
    "    next_layout = update_seats_2(layout)\n",
    "    ii+=1\n",
    "    print(ii)\n",
    "    #print(next_layout)"
   ]
  },
  {
   "cell_type": "code",
   "execution_count": 201,
   "metadata": {},
   "outputs": [
    {
     "name": "stdout",
     "output_type": "stream",
     "text": [
      "['#.L#L#L#L#L#.L#L#L#L#L.#L#L#L#L#.L#L.#L.#L#L#L#L#.L#L#L#.L#L#.L#..L#L#.L#L#.L#L.#L.#L#L#L#', '.LLLL.L.LLLLLLL.LLLLLLLLLLLLLLL..#LLLLL.LLLLLLLLL.LLLLLL.LLLLLLL.#LLLLLLLLL.LLLLLLLLLLLLLL', 'LL#L#L#L.#L#.LL#L.#L#L.#L#L#L#LL.LL#L#L#L#LL#L#L#.L#L#L#.LL#L#L#LL.#L#.L#L#.L#L#L#L#L#L#L#', '#LLLL..LL.LL.#L#L#LLLLLLLLLLLLLL#L#LLLL.LLLLLLLLL.LLLLLLL#LLLLLL.#LLLLLL.LLLLLLLLL.LLLLLLL', 'LL#L#.L.LL#L#LLL.LL#L#.LL#L#L#L#LLLL#L#.L#####L#L#L#L#L#.LL#L#L#.LL##L.#L#L#L#L#LLL#L#L#L#', '#LLLL..#..L.L........L....L.L..LLL...L....L.....L...L..L.....LLL.#..L..#L#...L.LL#...L..L.', 'LL#L#.LLL#L#.LLL#LLL#L#L#L#L#L#L#L.#L#L.LLLLLL.L#.#L#L#L.L#LL#L#.LLL#L.LLL#.#LL#LL#L#L#LLL', '#LLLL.##LLLL.L#LLL#LLLLLLLLLLLL..LLLLLL.#.L#L.#LLL#LLLLL#LLLLLLL..#LLL.L#LL.LLLLLL.LLLL#L#', 'LL#L#.LLL.#L#LLL#LLL#L.#L#L#L#L#L#L#L#L.LLLLLLLL#LLL#L#L.#L#L#L#.LLL#L#L.LL.L#L#L#L#L#LLLL', '#LLLLL#L#LLLLL#LLL#LLL.LLLLLLLL..LLLLLL.#L#L#L#LLL.LLLL#.LLLLLLLLL#LLL.LL##.LLLLLL.#.LL#L#']\n"
     ]
    }
   ],
   "source": [
    "print([''.join(row) for row in update_seats_2(next_layout)][:10])"
   ]
  },
  {
   "cell_type": "code",
   "execution_count": 202,
   "metadata": {},
   "outputs": [
    {
     "data": {
      "text/plain": [
       "1937"
      ]
     },
     "execution_count": 202,
     "metadata": {},
     "output_type": "execute_result"
    }
   ],
   "source": [
    "sum([row.count('#') for row in update_seats_2(next_layout)])"
   ]
  },
  {
   "cell_type": "code",
   "execution_count": 203,
   "metadata": {},
   "outputs": [
    {
     "data": {
      "text/plain": [
       "[10, 9, 8, 7, 6, 5, 4, 3, 2, 1]"
      ]
     },
     "execution_count": 203,
     "metadata": {},
     "output_type": "execute_result"
    }
   ],
   "source": [
    "[x for x in range(10,0,-1)]"
   ]
  },
  {
   "cell_type": "code",
   "execution_count": 204,
   "metadata": {},
   "outputs": [
    {
     "data": {
      "text/plain": [
       "'.'"
      ]
     },
     "execution_count": 204,
     "metadata": {},
     "output_type": "execute_result"
    }
   ],
   "source": [
    "update_seat_2(update_seats_2(input),0,1)"
   ]
  },
  {
   "cell_type": "code",
   "execution_count": 189,
   "metadata": {},
   "outputs": [
    {
     "name": "stdout",
     "output_type": "stream",
     "text": [
      "0\n"
     ]
    }
   ],
   "source": [
    "for x in range(1):\n",
    "    print(x)"
   ]
  },
  {
   "cell_type": "code",
   "execution_count": null,
   "metadata": {},
   "outputs": [],
   "source": []
  }
 ],
 "metadata": {
  "kernelspec": {
   "display_name": "Python 3",
   "language": "python",
   "name": "python3"
  },
  "language_info": {
   "codemirror_mode": {
    "name": "ipython",
    "version": 3
   },
   "file_extension": ".py",
   "mimetype": "text/x-python",
   "name": "python",
   "nbconvert_exporter": "python",
   "pygments_lexer": "ipython3",
   "version": "3.7.1"
  }
 },
 "nbformat": 4,
 "nbformat_minor": 2
}
