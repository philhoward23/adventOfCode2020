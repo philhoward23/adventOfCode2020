{
 "cells": [
  {
   "cell_type": "markdown",
   "metadata": {},
   "source": [
    "Part 1: evaluate expressions left-right"
   ]
  },
  {
   "cell_type": "code",
   "execution_count": 199,
   "metadata": {},
   "outputs": [
    {
     "name": "stdout",
     "output_type": "stream",
     "text": [
      "375\n",
      "65\n",
      "['(7 * 5 * 6 + (9 * 8 + 3 * 3 + 5) + 7) * (6 + 3 * 9) + 6 + 7 + (7 * 5) * 4', '(4 + 9 + (8 * 2) + 5) * 8 + (3 + 2 * 3 * 7 * (7 * 4 * 5) * 9) * 2', '3 + 7 + (9 + 6 + 4 * 7 * 3 + 5) * 9', '3 + 3 * (5 + (7 * 5 + 4 * 8 + 9 * 2) + 3) * 8 * 7', '(8 + 3 + 7 * 7) + (3 + 8) * 4 + 2', '2 + 9 * (7 + 3 * 3 * 8) + 9 + 3', '2 * ((5 + 7 + 9 + 7 * 3 * 7) * 2 + 4 * 4 + (2 + 2 + 7) + 3) + 6', '8 * 3 * (6 + (6 * 8 * 2)) + 9 + 9 * 3', '(9 * 7 + 6) + 5 * (7 + 5 + 4) + 2', '(9 + 4 * (5 + 5 + 4 * 2) * 7) * 7 * 9 * 5 * 3']\n"
     ]
    }
   ],
   "source": [
    "input=open(\"input.txt\")\n",
    "input = input.readlines()\n",
    "input = [x.strip() for x in input]\n",
    "print(len(input))\n",
    "print(len(input[1]))\n",
    "print(input[:10])"
   ]
  },
  {
   "cell_type": "code",
   "execution_count": 200,
   "metadata": {},
   "outputs": [],
   "source": [
    "def split_by_brackets(row):\n",
    "    #return list of strings each fully bracketed part separately\n",
    "    result = []\n",
    "    current_bracket_count = 0\n",
    "    current_part = ''\n",
    "    for char in row:\n",
    "        current_part += char\n",
    "        if char == '(':\n",
    "            current_bracket_count += 1\n",
    "            if (current_bracket_count == 1) and (len(current_part[:-1]) > 0):\n",
    "                result.append(current_part[:-1])\n",
    "                current_part = '('\n",
    "        elif char == ')':\n",
    "            current_bracket_count -= 1\n",
    "            if current_bracket_count == 0:\n",
    "                result.append(current_part)\n",
    "                current_part = ''\n",
    "    if len(current_part) > 0:\n",
    "        result.append(current_part)\n",
    "    return(result)\n"
   ]
  },
  {
   "cell_type": "code",
   "execution_count": 201,
   "metadata": {},
   "outputs": [],
   "source": [
    "def bracketless_evaluate(string):\n",
    "    #evaluate left-right priority always\n",
    "    current_string = string.split()\n",
    "    while len(current_string) > 1:\n",
    "        #evaluate first part\n",
    "        current_string = [str(eval(''.join(current_string[:3])))] + current_string[3:]\n",
    "        #print(current_string)\n",
    "    return(current_string[0])"
   ]
  },
  {
   "cell_type": "code",
   "execution_count": 202,
   "metadata": {},
   "outputs": [],
   "source": [
    "def evaluate_string(row):\n",
    "    #find brackets and evaluate_string on each inner string then recombine and evaluate\n",
    "    with_evaluated_brackets = ''\n",
    "    parts = split_by_brackets(row)\n",
    "    #print(parts)\n",
    "    for part in parts:\n",
    "        if part[0] == '(':\n",
    "            with_evaluated_brackets += evaluate_string(part[1:-1])\n",
    "        else:\n",
    "            with_evaluated_brackets += part\n",
    "    return(bracketless_evaluate(with_evaluated_brackets))\n"
   ]
  },
  {
   "cell_type": "code",
   "execution_count": 203,
   "metadata": {},
   "outputs": [
    {
     "data": {
      "text/plain": [
       "'18'"
      ]
     },
     "execution_count": 203,
     "metadata": {},
     "output_type": "execute_result"
    }
   ],
   "source": [
    "evaluate_string('3 * 4 + 6')"
   ]
  },
  {
   "cell_type": "code",
   "execution_count": 204,
   "metadata": {},
   "outputs": [
    {
     "data": {
      "text/plain": [
       "'18'"
      ]
     },
     "execution_count": 204,
     "metadata": {},
     "output_type": "execute_result"
    }
   ],
   "source": [
    "bracketless_evaluate('3 * 4 + 6')"
   ]
  },
  {
   "cell_type": "code",
   "execution_count": 205,
   "metadata": {},
   "outputs": [
    {
     "name": "stdout",
     "output_type": "stream",
     "text": [
      "7293529867931\n"
     ]
    }
   ],
   "source": [
    "sum_input = 0\n",
    "for line in input:\n",
    "    sum_input += int(evaluate_string(line))\n",
    "print(sum_input)"
   ]
  },
  {
   "cell_type": "markdown",
   "metadata": {},
   "source": [
    "Part 2: \n",
    "\n",
    "Now, addition and multiplication have different precedence levels, but they're not the ones you're familiar with. Instead, addition is evaluated before multiplication."
   ]
  },
  {
   "cell_type": "code",
   "execution_count": 210,
   "metadata": {},
   "outputs": [],
   "source": [
    "def bracketless_evaluate_2(string):\n",
    "    #evaluate + then left-right priority \n",
    "    current_string = string.split()\n",
    "    #do sums\n",
    "    ii = 0\n",
    "    while ii < len(current_string) - 1:\n",
    "        ii += 1\n",
    "        #print(ii, current_string)\n",
    "        if current_string[ii] == '+':\n",
    "            if ii == len(current_string) - 2:\n",
    "                current_string = current_string[:-3] + [str(eval(''.join(current_string[-3:])))]\n",
    "                #print('end')\n",
    "                return(str(eval(''.join(current_string))))\n",
    "            elif ii == 1:\n",
    "                current_string = [str(eval(''.join(current_string[:3])))] + current_string[3:]\n",
    "                ii = 0\n",
    "            else:\n",
    "                current_string = current_string[:ii-1] + [str(eval(''.join(current_string[ii-1:ii+2])))] + current_string[ii+2:]\n",
    "                ii -= 1\n",
    "        #print(current_string)\n",
    "    #then products\n",
    "    return(str(eval(''.join(current_string))))"
   ]
  },
  {
   "cell_type": "code",
   "execution_count": 211,
   "metadata": {},
   "outputs": [],
   "source": [
    "def evaluate_string_2(row):\n",
    "    #find brackets and evaluate_string on each inner string then recombine and evaluate\n",
    "    with_evaluated_brackets = ''\n",
    "    parts = split_by_brackets(row)\n",
    "    #print(parts)\n",
    "    for part in parts:\n",
    "        if part[0] == '(':\n",
    "            with_evaluated_brackets += evaluate_string_2(part[1:-1])\n",
    "        else:\n",
    "            with_evaluated_brackets += part\n",
    "    return(bracketless_evaluate_2(with_evaluated_brackets))\n"
   ]
  },
  {
   "cell_type": "code",
   "execution_count": 214,
   "metadata": {},
   "outputs": [
    {
     "name": "stdout",
     "output_type": "stream",
     "text": [
      "60807587180737\n"
     ]
    }
   ],
   "source": [
    "sum_input = 0\n",
    "for line in input:\n",
    "    sum_input += int(evaluate_string_2(line))\n",
    "print(sum_input)"
   ]
  },
  {
   "cell_type": "code",
   "execution_count": 213,
   "metadata": {},
   "outputs": [
    {
     "name": "stdout",
     "output_type": "stream",
     "text": [
      "[]\n"
     ]
    },
    {
     "data": {
      "text/plain": [
       "'28'"
      ]
     },
     "execution_count": 213,
     "metadata": {},
     "output_type": "execute_result"
    }
   ],
   "source": [
    "test_string = '1 + 3 * 2 + 5'\n",
    "print(test_string.split()[:0])\n",
    "bracketless_evaluate_2(test_string)"
   ]
  },
  {
   "cell_type": "code",
   "execution_count": 192,
   "metadata": {},
   "outputs": [
    {
     "data": {
      "text/plain": [
       "['2 * 3 + (4 * 5)',\n",
       " '5 + (8 * 3 + 9 + 3 * 4 * 3)',\n",
       " '5 * 9 * (7 * 3 * 3 + 9 * 3 + (8 + 6 * 4))',\n",
       " '((2 + 4 * 9) * (6 + 9 * 8 + 6) + 6) + 2 + 4 * 2']"
      ]
     },
     "execution_count": 192,
     "metadata": {},
     "output_type": "execute_result"
    }
   ],
   "source": [
    "input"
   ]
  },
  {
   "cell_type": "code",
   "execution_count": null,
   "metadata": {},
   "outputs": [],
   "source": []
  }
 ],
 "metadata": {
  "kernelspec": {
   "display_name": "Python 3",
   "language": "python",
   "name": "python3"
  },
  "language_info": {
   "codemirror_mode": {
    "name": "ipython",
    "version": 3
   },
   "file_extension": ".py",
   "mimetype": "text/x-python",
   "name": "python",
   "nbconvert_exporter": "python",
   "pygments_lexer": "ipython3",
   "version": "3.8.1"
  }
 },
 "nbformat": 4,
 "nbformat_minor": 4
}
