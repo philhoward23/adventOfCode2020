{
 "cells": [
  {
   "cell_type": "code",
   "execution_count": 1,
   "metadata": {},
   "outputs": [],
   "source": [
    "import re"
   ]
  },
  {
   "cell_type": "markdown",
   "metadata": {},
   "source": [
    "Check for presence of all following\n",
    "byr (Birth Year)\n",
    "iyr (Issue Year)\n",
    "eyr (Expiration Year)\n",
    "hgt (Height)\n",
    "hcl (Hair Color)\n",
    "ecl (Eye Color)\n",
    "pid (Passport ID)\n",
    "cid (Country ID)"
   ]
  },
  {
   "cell_type": "code",
   "execution_count": 2,
   "metadata": {},
   "outputs": [],
   "source": [
    "\n",
    "#part 1 cid can be skipped for north pole passports\n",
    "day4input=open(\"input.txt\")\n",
    "input = day4input.readlines()\n",
    "input = [x.strip() for x in input]\n"
   ]
  },
  {
   "cell_type": "code",
   "execution_count": 4,
   "metadata": {},
   "outputs": [
    {
     "name": "stdout",
     "output_type": "stream",
     "text": [
      "1138\n"
     ]
    },
    {
     "data": {
      "text/plain": [
       "['eyr:2028 iyr:2016 byr:1995 ecl:oth',\n",
       " 'pid:543685203 hcl:#c0946f',\n",
       " 'hgt:152cm',\n",
       " 'cid:252',\n",
       " '',\n",
       " 'hcl:#733820 hgt:155cm',\n",
       " 'iyr:2013 byr:1989 pid:728471979',\n",
       " 'ecl:grn eyr:2022',\n",
       " '',\n",
       " 'hgt:171cm']"
      ]
     },
     "execution_count": 4,
     "metadata": {},
     "output_type": "execute_result"
    }
   ],
   "source": [
    "print(len(input))\n",
    "input[:10]"
   ]
  },
  {
   "cell_type": "code",
   "execution_count": 12,
   "metadata": {},
   "outputs": [],
   "source": [
    "checklist_north_pole = [\"byr\", \"iyr\", \"eyr\", \"hgt\", \"hcl\", \"ecl\", \"pid\"]"
   ]
  },
  {
   "cell_type": "code",
   "execution_count": 11,
   "metadata": {},
   "outputs": [
    {
     "data": {
      "text/plain": [
       "285"
      ]
     },
     "execution_count": 11,
     "metadata": {},
     "output_type": "execute_result"
    }
   ],
   "source": [
    "passports = [{}]\n",
    "for line in input:\n",
    "    if line == '':\n",
    "        #start a new passport\n",
    "        passports.append({})\n",
    "    else:\n",
    "        for item in line.split():\n",
    "            passports[-1][item.split(\":\")[0]]=item.split(\":\")[1] \n",
    "        \n",
    "len(passports)"
   ]
  },
  {
   "cell_type": "code",
   "execution_count": 121,
   "metadata": {},
   "outputs": [
    {
     "data": {
      "text/plain": [
       "256"
      ]
     },
     "execution_count": 121,
     "metadata": {},
     "output_type": "execute_result"
    }
   ],
   "source": [
    "valid_count = 0\n",
    "for passport in passports:\n",
    "    if all(check in passport for check in checklist_north_pole):\n",
    "        valid_count+=1\n",
    "        \n",
    "valid_count"
   ]
  },
  {
   "cell_type": "markdown",
   "metadata": {},
   "source": [
    "part 2 check other validations\n",
    "\n",
    "byr (Birth Year) - four digits; at least 1920 and at most 2002.\n",
    "\n",
    "iyr (Issue Year) - four digits; at least 2010 and at most 2020.\n",
    "\n",
    "eyr (Expiration Year) - four digits; at least 2020 and at most 2030.\n",
    "\n",
    "hgt (Height) - a number followed by either cm or in:\n",
    "If cm, the number must be at least 150 and at most 193.\n",
    "If in, the number must be at least 59 and at most 76.\n",
    "\n",
    "hcl (Hair Color) - a # followed by exactly six characters 0-9 or a-f.\n",
    "\n",
    "ecl (Eye Color) - exactly one of: amb blu brn gry grn hzl oth.\n",
    "\n",
    "pid (Passport ID) - a nine-digit number, including leading zeroes.\n",
    "\n",
    "cid (Country ID) - ignored, missing or not.\n",
    "\n",
    "\n"
   ]
  },
  {
   "cell_type": "code",
   "execution_count": 129,
   "metadata": {},
   "outputs": [],
   "source": [
    "def is_byr(string):\n",
    "    return (re.fullmatch('\\d{4}',string)) and (1920 <= int(string) <= 2002)\n",
    "\n",
    "def is_iyr(string):\n",
    "    return (re.fullmatch('\\d{4}',string)) and (2010 <= int(string) <= 2020)\n",
    "\n",
    "def is_eyr(string):\n",
    "    return (re.fullmatch('\\d{4}',string)) and (2020 <= int(string) <= 2030)\n",
    "\n",
    "def is_hgt(string):\n",
    "    if (re.fullmatch('\\d+cm',string)) and (150 <= int(string[:-2]) <= 193):\n",
    "        return True\n",
    "    elif (re.fullmatch('\\d+in',string)) and (59 <= int(string[:-2]) <= 76):\n",
    "        return True\n",
    "    else:\n",
    "        return False\n",
    "\n",
    "def is_hcl(string):\n",
    "    return (re.fullmatch('#[0-9a-f]{6}',string)) \n",
    "\n",
    "def is_ecl(string):\n",
    "    return string in ('amb','blu','brn','gry','grn','hzl','oth')\n",
    "\n",
    "def is_pid(string):\n",
    "    return re.fullmatch('[0-9]{9}',string)\n",
    "     "
   ]
  },
  {
   "cell_type": "code",
   "execution_count": 130,
   "metadata": {},
   "outputs": [
    {
     "data": {
      "text/plain": [
       "<re.Match object; span=(0, 5), match='192cm'>"
      ]
     },
     "execution_count": 130,
     "metadata": {},
     "output_type": "execute_result"
    }
   ],
   "source": [
    "re.fullmatch('\\d+cm','192cm')"
   ]
  },
  {
   "cell_type": "code",
   "execution_count": 131,
   "metadata": {},
   "outputs": [
    {
     "name": "stdout",
     "output_type": "stream",
     "text": [
      "nice\n"
     ]
    }
   ],
   "source": [
    "if not is_pid('0123488006'):\n",
    "    print('nice')"
   ]
  },
  {
   "cell_type": "code",
   "execution_count": 132,
   "metadata": {},
   "outputs": [],
   "source": [
    "checklist_north_pole_details = {\"byr\":is_byr, \"iyr\":is_iyr, \"eyr\":is_eyr, \"hgt\":is_hgt, \"hcl\":is_hcl, \"ecl\":is_ecl, \"pid\":is_pid}"
   ]
  },
  {
   "cell_type": "code",
   "execution_count": 134,
   "metadata": {},
   "outputs": [],
   "source": [
    "def check_north_pole_passport(passport):\n",
    "    return all(((check in passport) and (checklist_north_pole_details[check](passport[check]))) for check in checklist_north_pole)"
   ]
  },
  {
   "cell_type": "code",
   "execution_count": 135,
   "metadata": {},
   "outputs": [
    {
     "data": {
      "text/plain": [
       "{'hcl': '#733820',\n",
       " 'hgt': '155cm',\n",
       " 'iyr': '2013',\n",
       " 'byr': '1989',\n",
       " 'pid': '728471979',\n",
       " 'ecl': 'grn',\n",
       " 'eyr': '2022'}"
      ]
     },
     "execution_count": 135,
     "metadata": {},
     "output_type": "execute_result"
    }
   ],
   "source": [
    "passports[1]"
   ]
  },
  {
   "cell_type": "code",
   "execution_count": 136,
   "metadata": {},
   "outputs": [
    {
     "data": {
      "text/plain": [
       "True"
      ]
     },
     "execution_count": 136,
     "metadata": {},
     "output_type": "execute_result"
    }
   ],
   "source": [
    "check_north_pole_passport(passports[2])"
   ]
  },
  {
   "cell_type": "code",
   "execution_count": 137,
   "metadata": {},
   "outputs": [
    {
     "name": "stdout",
     "output_type": "stream",
     "text": [
      "byr True\n",
      "iyr True\n",
      "eyr True\n",
      "hgt True\n",
      "hcl <re.Match object; span=(0, 7), match='#cfa07d'>\n",
      "ecl True\n",
      "pid <re.Match object; span=(0, 9), match='214368857'>\n"
     ]
    }
   ],
   "source": [
    "for check in checklist_north_pole:\n",
    "    print(check,checklist_north_pole_details[check](passports[2][check]))\n",
    "    "
   ]
  },
  {
   "cell_type": "code",
   "execution_count": 138,
   "metadata": {},
   "outputs": [
    {
     "name": "stdout",
     "output_type": "stream",
     "text": [
      "True\n",
      "<function is_hgt at 0x110d86f28>\n"
     ]
    }
   ],
   "source": [
    "print(checklist_north_pole_details['hgt'](passports[3]['hgt']))\n",
    "print(checklist_north_pole_details['hgt'])"
   ]
  },
  {
   "cell_type": "code",
   "execution_count": 141,
   "metadata": {},
   "outputs": [
    {
     "name": "stdout",
     "output_type": "stream",
     "text": [
      "7 {'iyr': '2023', 'hcl': 'a58381', 'pid': '#401a29', 'eyr': '1940', 'byr': '1920', 'ecl': 'utc', 'hgt': '183cm'}\n",
      "7 {'ecl': '#ba3242', 'hgt': '80', 'byr': '1931', 'pid': '550004054', 'iyr': '1949', 'eyr': '1944', 'hcl': 'fb3859'}\n",
      "8 {'pid': '159cm', 'iyr': '1923', 'eyr': '2032', 'hcl': '701107', 'cid': '343', 'ecl': 'gmt', 'byr': '2010', 'hgt': '177cm'}\n",
      "7 {'hgt': '157cm', 'byr': '2017', 'ecl': 'grn', 'iyr': '2012', 'eyr': '2030', 'hcl': '#18171d', 'pid': '173cm'}\n",
      "8 {'pid': '260101979', 'hgt': '187cm', 'eyr': '2033', 'ecl': 'lzr', 'byr': '2020', 'hcl': '1058ce', 'cid': '133', 'iyr': '2012'}\n",
      "6 {'hcl': '#7d3b0c', 'pid': '307828343', 'byr': '2001', 'cid': '317', 'iyr': '2013', 'eyr': '2029'}\n",
      "7 {'pid': '472940417', 'eyr': '1960', 'hgt': '181cm', 'hcl': '#c0946f', 'cid': '269', 'byr': '2014', 'iyr': '1956'}\n",
      "7 {'iyr': '1989', 'byr': '2008', 'hgt': '154cm', 'eyr': '2028', 'pid': '280298169', 'cid': '208', 'ecl': 'oth'}\n",
      "7 {'eyr': '2027', 'ecl': '#d72f9b', 'hgt': '162cm', 'iyr': '2018', 'hcl': '#a97842', 'byr': '1945', 'pid': '131243258'}\n",
      "7 {'hgt': '165', 'eyr': '2030', 'iyr': '2027', 'ecl': '#1a34f1', 'pid': '2894591864', 'byr': '2024', 'hcl': 'z'}\n",
      "5 {'byr': '1971', 'ecl': 'oth', 'hgt': '163cm', 'eyr': '2021', 'pid': '040443396'}\n",
      "7 {'cid': '74', 'iyr': '2010', 'pid': '014378493', 'hgt': '174cm', 'eyr': '2020', 'ecl': 'grn', 'byr': '1944'}\n",
      "8 {'ecl': 'hzl', 'byr': '1938', 'pid': '235085606', 'cid': '180', 'hcl': '8fb74c', 'eyr': '2021', 'hgt': '73', 'iyr': '2015'}\n",
      "8 {'hcl': '#733820', 'hgt': '66in', 'eyr': '1920', 'ecl': 'oth', 'byr': '1941', 'pid': '979460474', 'iyr': '2010', 'cid': '247'}\n",
      "7 {'hcl': '#cfa07d', 'ecl': '#13bd36', 'hgt': '193cm', 'eyr': '2027', 'pid': '181cm', 'byr': '1952', 'iyr': '1951'}\n",
      "7 {'byr': '2013', 'iyr': '2021', 'ecl': 'zzz', 'eyr': '2032', 'hgt': '193in', 'hcl': '#a97842', 'pid': '163cm'}\n",
      "7 {'eyr': '2029', 'cid': '140', 'byr': '1984', 'iyr': '2018', 'hgt': '187cm', 'hcl': '#b6652a', 'pid': '910674579'}\n",
      "7 {'ecl': 'grt', 'byr': '1983', 'hcl': '#cfa07d', 'hgt': '163cm', 'eyr': '1979', 'iyr': '1958', 'pid': '796395720'}\n",
      "7 {'byr': '2023', 'pid': '#eb4c2a', 'iyr': '1939', 'ecl': 'grn', 'hcl': '06d729', 'hgt': '73', 'eyr': '2038'}\n",
      "5 {'hgt': '192cm', 'pid': '874141668', 'byr': '1957', 'iyr': '2015', 'ecl': 'gry'}\n",
      "8 {'byr': '1985', 'ecl': 'utc', 'pid': '#ff1cbf', 'iyr': '2018', 'hcl': '#866857', 'hgt': '169cm', 'eyr': '2026', 'cid': '194'}\n",
      "7 {'byr': '1978', 'iyr': '2020', 'hgt': '150cm', 'cid': '266', 'eyr': '2026', 'pid': '443912835', 'hcl': '#b6652a'}\n",
      "7 {'pid': '472891001', 'ecl': 'xry', 'hgt': '96', 'hcl': '1b816a', 'iyr': '1954', 'byr': '2015', 'eyr': '2037'}\n",
      "8 {'hgt': '129', 'eyr': '2037', 'cid': '61', 'iyr': '2009', 'byr': '2027', 'hcl': '#c0946f', 'pid': '3569865', 'ecl': '#4e3d72'}\n",
      "8 {'ecl': 'xry', 'cid': '86', 'hgt': '172in', 'byr': '1972', 'iyr': '2015', 'hcl': '#7d3b0c', 'pid': '833809421', 'eyr': '2030'}\n",
      "8 {'iyr': '2010', 'byr': '2013', 'hgt': '181cm', 'eyr': '2021', 'pid': '072317444', 'ecl': 'oth', 'hcl': '#866857', 'cid': '118'}\n",
      "8 {'pid': '4354408888', 'iyr': '2012', 'hcl': '#b6652a', 'cid': '104', 'hgt': '96', 'eyr': '2020', 'byr': '1933', 'ecl': 'amb'}\n",
      "7 {'byr': '1932', 'hgt': '170cm', 'iyr': '2014', 'pid': '777844412', 'eyr': '2040', 'hcl': '#cfa07d', 'ecl': 'brn'}\n",
      "7 {'cid': '160', 'hgt': '191cm', 'eyr': '2020', 'iyr': '2012', 'ecl': 'brn', 'byr': '1981', 'pid': '077027782'}\n",
      "8 {'byr': '2010', 'cid': '337', 'hcl': 'z', 'pid': '525126586', 'iyr': '2010', 'hgt': '73cm', 'eyr': '2040', 'ecl': 'blu'}\n",
      "6 {'hgt': '157cm', 'ecl': 'grn', 'byr': '2000', 'pid': '734707993', 'hcl': '#341e13', 'iyr': '2020'}\n",
      "7 {'iyr': '2019', 'cid': '172', 'hgt': '152cm', 'eyr': '2022', 'ecl': 'oth', 'hcl': '#602927', 'byr': '1960'}\n",
      "7 {'iyr': '2015', 'pid': '472000322', 'eyr': '2021', 'byr': '1977', 'ecl': 'gry', 'hgt': '165cm', 'cid': '270'}\n",
      "7 {'eyr': '2027', 'byr': '1956', 'pid': '193087729', 'hcl': '#ceb3a1', 'cid': '213', 'hgt': '193cm', 'ecl': 'oth'}\n",
      "7 {'hcl': 'z', 'pid': '097595072', 'ecl': 'amb', 'iyr': '2015', 'byr': '2021', 'eyr': '2039', 'hgt': '188cm'}\n",
      "8 {'pid': '74823273', 'hcl': '#341e13', 'cid': '166', 'hgt': '182cm', 'byr': '2026', 'iyr': '2027', 'ecl': 'amb', 'eyr': '2032'}\n",
      "6 {'hgt': '72cm', 'iyr': '2015', 'cid': '234', 'byr': '2013', 'ecl': 'brn', 'pid': '9401866358'}\n",
      "7 {'ecl': 'amb', 'hgt': '118', 'byr': '1981', 'iyr': '2019', 'hcl': '#a97842', 'eyr': '2021', 'pid': '270790642'}\n",
      "8 {'byr': '1925', 'cid': '179', 'ecl': 'hzl', 'pid': '360641953', 'eyr': '2030', 'hgt': '171in', 'iyr': '2015', 'hcl': '#602927'}\n",
      "6 {'hgt': '68in', 'ecl': 'blu', 'byr': '1965', 'iyr': '2017', 'pid': '854858050', 'eyr': '2021'}\n",
      "8 {'ecl': 'utc', 'hcl': '#602927', 'pid': '#1408ff', 'byr': '1941', 'cid': '82', 'iyr': '2015', 'hgt': '185cm', 'eyr': '2028'}\n",
      "7 {'iyr': '2011', 'hgt': '155in', 'hcl': '#ceb3a1', 'pid': '118497416', 'eyr': '2029', 'byr': '2011', 'ecl': 'oth'}\n",
      "7 {'hcl': '03a888', 'byr': '2029', 'ecl': '#6f7292', 'eyr': '1969', 'iyr': '2028', 'hgt': '162cm', 'pid': '73551266'}\n",
      "5 {'byr': '1971', 'hcl': 'z', 'eyr': '2035', 'pid': '158cm', 'ecl': '#d3ec19'}\n",
      "8 {'hgt': '138', 'byr': '2013', 'eyr': '2040', 'iyr': '2028', 'cid': '197', 'ecl': '#8844fd', 'pid': '8524414485', 'hcl': 'z'}\n",
      "7 {'eyr': '2040', 'hgt': '173in', 'hcl': 'z', 'pid': '#654654', 'byr': '2016', 'iyr': '2022', 'ecl': '#452d22'}\n",
      "6 {'iyr': '2012', 'cid': '265', 'eyr': '2021', 'hgt': '192cm', 'byr': '1993', 'ecl': 'brn'}\n",
      "7 {'iyr': '2024', 'pid': '#a08e69', 'hcl': 'z', 'byr': '1966', 'ecl': '#7b9978', 'eyr': '2035', 'hgt': '69cm'}\n",
      "7 {'hcl': '#efcc98', 'pid': '164cm', 'iyr': '2010', 'cid': '194', 'hgt': '71cm', 'byr': '1923', 'eyr': '2026'}\n",
      "8 {'pid': '42472559', 'hcl': '#6f5763', 'eyr': '2035', 'iyr': '2014', 'hgt': '154in', 'byr': '1939', 'ecl': 'grt', 'cid': '323'}\n",
      "7 {'eyr': '2018', 'iyr': '2029', 'ecl': 'brn', 'byr': '2022', 'pid': '#ff6df1', 'hcl': 'z', 'hgt': '68cm'}\n",
      "5 {'hgt': '163in', 'eyr': '2022', 'ecl': 'utc', 'hcl': '#ceb3a1', 'iyr': '2028'}\n",
      "8 {'ecl': 'gry', 'pid': '53552934', 'hgt': '193', 'byr': '2021', 'eyr': '2028', 'iyr': '2011', 'cid': '98', 'hcl': '90c63f'}\n",
      "7 {'hcl': '47242b', 'ecl': 'utc', 'hgt': '156', 'pid': '#9a9903', 'eyr': '2030', 'iyr': '1990', 'byr': '2011'}\n",
      "6 {'ecl': 'oth', 'eyr': '2030', 'pid': '024655030', 'hgt': '184cm', 'byr': '1969', 'hcl': '#18171d'}\n",
      "7 {'iyr': '1958', 'hgt': '165cm', 'pid': '377677319', 'ecl': 'grt', 'eyr': '2032', 'byr': '2025', 'hcl': 'bbfbe2'}\n",
      "6 {'eyr': '2027', 'hgt': '183cm', 'ecl': 'brn', 'iyr': '2017', 'hcl': '#341e13', 'pid': '827463598'}\n",
      "8 {'pid': '330882171', 'iyr': '2015', 'cid': '211', 'ecl': 'grn', 'byr': '1961', 'eyr': '2021', 'hcl': 'z', 'hgt': '169cm'}\n",
      "8 {'ecl': '#2bc145', 'eyr': '1963', 'iyr': '2030', 'cid': '241', 'hcl': '2fc384', 'hgt': '156in', 'pid': '2899917140', 'byr': '2005'}\n",
      "8 {'hgt': '159cm', 'hcl': 'b4ce6a', 'cid': '319', 'eyr': '2035', 'iyr': '1965', 'ecl': 'oth', 'byr': '2010', 'pid': '158cm'}\n",
      "8 {'pid': '45938863', 'hcl': '49c7ce', 'cid': '349', 'hgt': '181cm', 'eyr': '2023', 'ecl': 'grn', 'iyr': '2015', 'byr': '1948'}\n",
      "7 {'pid': '293364535', 'byr': '2024', 'hgt': '177cm', 'eyr': '2039', 'iyr': '2020', 'hcl': '#dae928', 'ecl': 'hzl'}\n",
      "7 {'cid': '140', 'ecl': 'amb', 'eyr': '2022', 'hgt': '181cm', 'hcl': '#efcc98', 'byr': '1943', 'iyr': '2016'}\n",
      "8 {'cid': '71', 'hgt': '151cm', 'pid': '5063555219', 'eyr': '2023', 'ecl': 'hzl', 'byr': '2019', 'hcl': '#7d3b0c', 'iyr': '2023'}\n",
      "7 {'hgt': '157in', 'pid': '#298b06', 'iyr': '2030', 'ecl': '#66a631', 'eyr': '2035', 'hcl': 'z', 'byr': '2019'}\n",
      "7 {'hgt': '190cm', 'iyr': '1943', 'pid': '644021656', 'hcl': '#6b621c', 'ecl': 'oth', 'eyr': '2021', 'byr': '1923'}\n",
      "6 {'hcl': '#efcc98', 'eyr': '2029', 'iyr': '2010', 'pid': '980087545', 'ecl': 'brn', 'hgt': '157cm'}\n",
      "7 {'pid': '57513658', 'iyr': '2011', 'byr': '1993', 'ecl': 'brn', 'eyr': '2027', 'hcl': '#6b5442', 'hgt': '165cm'}\n",
      "7 {'byr': '1941', 'ecl': 'gry', 'iyr': '2019', 'eyr': '2026', 'hgt': '73cm', 'hcl': '#602927', 'pid': '352996721'}\n",
      "8 {'ecl': 'gry', 'byr': '2002', 'iyr': '2017', 'hcl': '#b6652a', 'cid': '261', 'pid': '178cm', 'eyr': '2022', 'hgt': '166cm'}\n",
      "8 {'hcl': 'z', 'pid': '150cm', 'ecl': 'utc', 'iyr': '1981', 'eyr': '2034', 'hgt': '156in', 'cid': '260', 'byr': '2027'}\n",
      "7 {'byr': '1987', 'hgt': '66in', 'eyr': '2021', 'pid': '876757018', 'iyr': '2015', 'hcl': 'd596e4', 'ecl': 'hzl'}\n",
      "6 {'iyr': '2025', 'byr': '2028', 'hgt': '165in', 'eyr': '2027', 'pid': '6259332452', 'hcl': '#478251'}\n",
      "7 {'pid': '304792392', 'hcl': '487823', 'eyr': '2020', 'hgt': '70cm', 'byr': '2024', 'iyr': '1953', 'ecl': 'blu'}\n",
      "7 {'ecl': 'utc', 'iyr': '2015', 'byr': '1932', 'hcl': '#623a2f', 'eyr': '2027', 'hgt': '183cm', 'pid': '036300444'}\n",
      "7 {'hcl': '58aa4a', 'byr': '1930', 'hgt': '193cm', 'iyr': '1998', 'cid': '196', 'ecl': 'brn', 'eyr': '2032'}\n",
      "8 {'pid': '190cm', 'cid': '267', 'iyr': '2015', 'ecl': 'brn', 'hcl': '869252', 'byr': '1935', 'hgt': '142', 'eyr': '2033'}\n",
      "7 {'cid': '239', 'eyr': '2038', 'ecl': 'lzr', 'hcl': 'z', 'iyr': '1987', 'pid': '4632768239', 'hgt': '162in'}\n",
      "8 {'pid': '158038227', 'ecl': 'brn', 'byr': '1995', 'eyr': '2028', 'hcl': '#efcc98', 'cid': '252', 'iyr': '2021', 'hgt': '184cm'}\n",
      "7 {'hgt': '190in', 'hcl': 'z', 'eyr': '2029', 'pid': '74228790', 'iyr': '2016', 'byr': '2018', 'ecl': 'brn'}\n",
      "7 {'eyr': '2022', 'ecl': 'xry', 'hgt': '154cm', 'pid': '62205162', 'iyr': '2014', 'byr': '1936', 'cid': '61'}\n",
      "8 {'iyr': '2014', 'byr': '1935', 'eyr': '2021', 'cid': '235', 'pid': '#1b34e1', 'hcl': '#89313f', 'hgt': '164cm', 'ecl': 'blu'}\n",
      "7 {'pid': '6010745668', 'byr': '1934', 'ecl': 'oth', 'eyr': '2020', 'hgt': '164cm', 'hcl': '#733820', 'iyr': '2016'}\n",
      "8 {'iyr': '1955', 'cid': '108', 'pid': '712137140', 'byr': '2019', 'eyr': '2040', 'hgt': '184cm', 'hcl': '220cfe', 'ecl': '#551592'}\n",
      "6 {'pid': '215206381', 'byr': '1928', 'hgt': '163cm', 'hcl': '#b6652a', 'ecl': 'oth', 'iyr': '2011'}\n",
      "8 {'cid': '145', 'iyr': '2013', 'ecl': '#38a290', 'eyr': '2034', 'hcl': '#602927', 'hgt': '186cm', 'pid': '517498756', 'byr': '1945'}\n",
      "6 {'pid': '#725759', 'hcl': '#602927', 'iyr': '2013', 'byr': '2003', 'eyr': '2023', 'cid': '100'}\n"
     ]
    },
    {
     "data": {
      "text/plain": [
       "198"
      ]
     },
     "execution_count": 141,
     "metadata": {},
     "output_type": "execute_result"
    }
   ],
   "source": [
    "valid_count_full = 0\n",
    "for passport in passports:\n",
    "    if check_north_pole_passport(passport):\n",
    "        valid_count_full+=1\n",
    "    else:\n",
    "        print(len(passport), passport)\n",
    "#        for check in checklist_north_pole:\n",
    "#            print(check,checklist_north_pole_details[check](passport[check]))\n",
    "valid_count_full\n"
   ]
  }
 ],
 "metadata": {
  "kernelspec": {
   "display_name": "Python 3",
   "language": "python",
   "name": "python3"
  },
  "language_info": {
   "codemirror_mode": {
    "name": "ipython",
    "version": 3
   },
   "file_extension": ".py",
   "mimetype": "text/x-python",
   "name": "python",
   "nbconvert_exporter": "python",
   "pygments_lexer": "ipython3",
   "version": "3.7.1"
  }
 },
 "nbformat": 4,
 "nbformat_minor": 2
}
