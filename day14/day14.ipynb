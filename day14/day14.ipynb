{
 "cells": [
  {
   "cell_type": "markdown",
   "metadata": {},
   "source": [
    "Execute the initialization program. What is the sum of all values left in memory after it completes?"
   ]
  },
  {
   "cell_type": "code",
   "execution_count": 67,
   "metadata": {},
   "outputs": [
    {
     "name": "stdout",
     "output_type": "stream",
     "text": [
      "549\n",
      "22\n",
      "['mask = 11110X1XXX11001X01X00011001X00X00000', 'mem[28496] = 122879146', 'mem[62261] = 32295460', 'mem[493] = 1117432', 'mem[52235] = 813357', 'mask = 1X0111001110011X1011010110X0X0000100', 'mem[8994] = 14305', 'mem[34732] = 37943', 'mem[20855] = 1556305', 'mem[13410] = 14988']\n"
     ]
    }
   ],
   "source": [
    "input=open(\"input.txt\")\n",
    "input = input.readlines()\n",
    "input = [x.strip() for x in input]\n",
    "print(len(input))\n",
    "print(len(input[1]))\n",
    "print(input[:10])"
   ]
  },
  {
   "cell_type": "code",
   "execution_count": 68,
   "metadata": {},
   "outputs": [],
   "source": [
    "mem = {}"
   ]
  },
  {
   "cell_type": "code",
   "execution_count": 69,
   "metadata": {},
   "outputs": [],
   "source": [
    "mask_string = input[0].split()[2]"
   ]
  },
  {
   "cell_type": "code",
   "execution_count": 70,
   "metadata": {},
   "outputs": [
    {
     "data": {
      "text/plain": [
       "'11110X1XXX11001X01X00011001X00X00000'"
      ]
     },
     "execution_count": 70,
     "metadata": {},
     "output_type": "execute_result"
    }
   ],
   "source": [
    "mask_string"
   ]
  },
  {
   "cell_type": "code",
   "execution_count": 71,
   "metadata": {},
   "outputs": [],
   "source": [
    "for instruction in input:\n",
    "    if instruction.split()[0] == 'mask':\n",
    "        mask_string = instruction.split()[2]\n",
    "    else:\n",
    "        value = int(instruction.split()[2])\n",
    "        location = int(instruction.split()[0][4:-1])\n",
    "        #apply mask\n",
    "        binary_value = ['0' for placeholder in range(len(mask_string)-len(bin(value))+2)] + list(bin(value))[2:]\n",
    "        for ii, element in enumerate(mask_string):\n",
    "            if element != 'X':\n",
    "                binary_value[ii] = element\n",
    "        value = int(''.join(binary_value),2)\n",
    "        mem[location] = value\n",
    "        #print(location, value)\n",
    "        \n",
    "    "
   ]
  },
  {
   "cell_type": "code",
   "execution_count": 73,
   "metadata": {},
   "outputs": [
    {
     "data": {
      "text/plain": [
       "12610010960049"
      ]
     },
     "execution_count": 73,
     "metadata": {},
     "output_type": "execute_result"
    }
   ],
   "source": [
    "sum(mem.values())"
   ]
  },
  {
   "cell_type": "markdown",
   "metadata": {},
   "source": [
    "Part 2:\n",
    "\n",
    "A version 2 decoder chip doesn't modify the values being written at all. Instead, it acts as a memory address decoder. Immediately before a value is written to memory, each bit in the bitmask modifies the corresponding bit of the destination memory address in the following way:\n",
    "\n",
    "If the bitmask bit is 0, the corresponding memory address bit is unchanged.\n",
    "\n",
    "If the bitmask bit is 1, the corresponding memory address bit is overwritten with 1.\n",
    "\n",
    "If the bitmask bit is X, the corresponding memory address bit is floating."
   ]
  },
  {
   "cell_type": "code",
   "execution_count": 77,
   "metadata": {},
   "outputs": [],
   "source": [
    "import copy\n",
    "mem={}\n",
    "for instruction in input:\n",
    "    #print(instruction)\n",
    "    if instruction.split()[0] == 'mask':\n",
    "        mask_string = instruction.split()[2]\n",
    "    else:\n",
    "        value = int(instruction.split()[2])\n",
    "        location = int(instruction.split()[0][4:-1])\n",
    "        #apply mask\n",
    "        binary_location = ['0' for placeholder in range(len(mask_string)-len(bin(location))+2)] + list(bin(location))[2:]\n",
    "        #create a list of locations with all the permutations of floating bits\n",
    "        locations = [binary_location]     \n",
    "        for ii, element in enumerate(mask_string):\n",
    "            #print(ii,element, locations)\n",
    "            if element == '1':\n",
    "                for loc in locations:\n",
    "                    loc[ii] = element\n",
    "            elif element == 'X':\n",
    "                newlocs = []\n",
    "                for loc in locations:\n",
    "                    newlocs.append(copy.deepcopy(loc))\n",
    "                    if loc[ii] == '0':\n",
    "                        newlocs[-1][ii] = '1'\n",
    "                    else:\n",
    "                        newlocs[-1][ii] = '0'\n",
    "                locations = locations + newlocs\n",
    "                #print(locations)\n",
    "        for loc in locations:\n",
    "            mem[int(''.join(loc),2)] = value\n",
    "            #print(int(''.join(loc),2), value)\n",
    "        "
   ]
  },
  {
   "cell_type": "code",
   "execution_count": 78,
   "metadata": {},
   "outputs": [
    {
     "data": {
      "text/plain": [
       "3608464522781"
      ]
     },
     "execution_count": 78,
     "metadata": {},
     "output_type": "execute_result"
    }
   ],
   "source": [
    "sum(mem.values())"
   ]
  },
  {
   "cell_type": "code",
   "execution_count": null,
   "metadata": {},
   "outputs": [],
   "source": []
  }
 ],
 "metadata": {
  "kernelspec": {
   "display_name": "Python 3",
   "language": "python",
   "name": "python3"
  },
  "language_info": {
   "codemirror_mode": {
    "name": "ipython",
    "version": 3
   },
   "file_extension": ".py",
   "mimetype": "text/x-python",
   "name": "python",
   "nbconvert_exporter": "python",
   "pygments_lexer": "ipython3",
   "version": "3.8.1"
  }
 },
 "nbformat": 4,
 "nbformat_minor": 2
}
