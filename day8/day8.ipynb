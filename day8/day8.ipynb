{
 "cells": [
  {
   "cell_type": "markdown",
   "metadata": {},
   "source": [
    "Find value of accumulator at point of infinite loop starting"
   ]
  },
  {
   "cell_type": "code",
   "execution_count": 1,
   "metadata": {},
   "outputs": [],
   "source": [
    "day8input=open(\"input.txt\")\n",
    "input = day8input.readlines()\n",
    "input = [x.strip() for x in input]\n"
   ]
  },
  {
   "cell_type": "code",
   "execution_count": 2,
   "metadata": {},
   "outputs": [
    {
     "name": "stdout",
     "output_type": "stream",
     "text": [
      "641\n"
     ]
    },
    {
     "data": {
      "text/plain": [
       "['acc +3',\n",
       " 'jmp +599',\n",
       " 'nop +311',\n",
       " 'jmp +605',\n",
       " 'acc -3',\n",
       " 'acc +50',\n",
       " 'acc -6',\n",
       " 'jmp +461',\n",
       " 'jmp -4',\n",
       " 'acc -7']"
      ]
     },
     "execution_count": 2,
     "metadata": {},
     "output_type": "execute_result"
    }
   ],
   "source": [
    "print(len(input))\n",
    "input[:10]"
   ]
  },
  {
   "cell_type": "code",
   "execution_count": 3,
   "metadata": {},
   "outputs": [],
   "source": [
    "instructions = []\n",
    "for line in input:\n",
    "    tmp = line.split() \n",
    "    instructions.append([tmp[0],int(tmp[1])])"
   ]
  },
  {
   "cell_type": "code",
   "execution_count": 4,
   "metadata": {},
   "outputs": [
    {
     "data": {
      "text/plain": [
       "[['acc', 3],\n",
       " ['jmp', 599],\n",
       " ['nop', 311],\n",
       " ['jmp', 605],\n",
       " ['acc', -3],\n",
       " ['acc', 50],\n",
       " ['acc', -6],\n",
       " ['jmp', 461],\n",
       " ['jmp', -4],\n",
       " ['acc', -7]]"
      ]
     },
     "execution_count": 4,
     "metadata": {},
     "output_type": "execute_result"
    }
   ],
   "source": [
    "instructions[:10]"
   ]
  },
  {
   "cell_type": "code",
   "execution_count": 5,
   "metadata": {},
   "outputs": [
    {
     "name": "stdout",
     "output_type": "stream",
     "text": [
      "108 1586\n"
     ]
    }
   ],
   "source": [
    "acc = 0\n",
    "visited = set()\n",
    "current = 0\n",
    "while True:\n",
    "    if current in visited:\n",
    "        print(current,acc)\n",
    "        break\n",
    "    visited.update([current])\n",
    "    instruction = instructions[current]\n",
    "    if instruction[0] == 'acc':\n",
    "        acc+=instruction[1]\n",
    "        current+=1\n",
    "    elif instruction[0] == 'nop':\n",
    "        current+=1\n",
    "    else:\n",
    "        current+=instruction[1]\n"
   ]
  },
  {
   "cell_type": "code",
   "execution_count": 6,
   "metadata": {},
   "outputs": [
    {
     "data": {
      "text/plain": [
       "['acc', 45]"
      ]
     },
     "execution_count": 6,
     "metadata": {},
     "output_type": "execute_result"
    }
   ],
   "source": [
    "instructions[108]"
   ]
  },
  {
   "cell_type": "markdown",
   "metadata": {},
   "source": [
    "Part 2: find the single instruction to change that results in the final row executing"
   ]
  },
  {
   "cell_type": "code",
   "execution_count": 7,
   "metadata": {},
   "outputs": [],
   "source": [
    "import copy"
   ]
  },
  {
   "cell_type": "code",
   "execution_count": 8,
   "metadata": {},
   "outputs": [],
   "source": [
    "def test_instruction_change(list, row,print_acc=False):\n",
    "    #copy list and modify one\n",
    "    test_instructions=copy.deepcopy(instructions)\n",
    "    if test_instructions[row][0] == 'nop':\n",
    "        test_instructions[row][0] = 'jmp'\n",
    "    if test_instructions[row][0] == 'jmp':\n",
    "        test_instructions[row][0] = 'nop'\n",
    "    #rerun check for infinite loop\n",
    "    acc = 0\n",
    "    visited = set()\n",
    "    current = 0\n",
    "    while True:\n",
    "        if current in visited:\n",
    "            #print(current,acc)\n",
    "            return(False)\n",
    "        visited.update([current])\n",
    "        instruction = test_instructions[current]\n",
    "        #print(instruction,acc)\n",
    "        if instruction[0] == 'acc':\n",
    "            acc+=instruction[1]\n",
    "            current+=1\n",
    "        elif instruction[0] == 'nop':\n",
    "            current+=1\n",
    "        else:\n",
    "            current+=instruction[1]\n",
    "        if current == len(test_instructions):\n",
    "            if print_acc:\n",
    "                print(current,acc)\n",
    "            return(True)\n",
    "        \n",
    "        "
   ]
  },
  {
   "cell_type": "code",
   "execution_count": 9,
   "metadata": {},
   "outputs": [
    {
     "name": "stdout",
     "output_type": "stream",
     "text": [
      "174\n"
     ]
    }
   ],
   "source": [
    "for row in range(len(instructions)):\n",
    "    if test_instruction_change(instructions, row):\n",
    "        print(row)\n",
    "        "
   ]
  },
  {
   "cell_type": "code",
   "execution_count": 10,
   "metadata": {},
   "outputs": [
    {
     "name": "stdout",
     "output_type": "stream",
     "text": [
      "641 703\n"
     ]
    },
    {
     "data": {
      "text/plain": [
       "True"
      ]
     },
     "execution_count": 10,
     "metadata": {},
     "output_type": "execute_result"
    }
   ],
   "source": [
    "test_instruction_change(instructions, 174,print_acc=True)"
   ]
  },
  {
   "cell_type": "code",
   "execution_count": null,
   "metadata": {},
   "outputs": [],
   "source": []
  }
 ],
 "metadata": {
  "kernelspec": {
   "display_name": "Python 3",
   "language": "python",
   "name": "python3"
  },
  "language_info": {
   "codemirror_mode": {
    "name": "ipython",
    "version": 3
   },
   "file_extension": ".py",
   "mimetype": "text/x-python",
   "name": "python",
   "nbconvert_exporter": "python",
   "pygments_lexer": "ipython3",
   "version": "3.8.1"
  }
 },
 "nbformat": 4,
 "nbformat_minor": 2
}
