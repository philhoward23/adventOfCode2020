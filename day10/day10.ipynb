{
 "cells": [
  {
   "cell_type": "markdown",
   "metadata": {},
   "source": [
    "Find list of gaps between ordered entries"
   ]
  },
  {
   "cell_type": "code",
   "execution_count": 143,
   "metadata": {},
   "outputs": [],
   "source": [
    "day10input=open(\"test_input.txt\")\n",
    "input = day10input.readlines()\n",
    "input = [int(x.strip()) for x in input]\n"
   ]
  },
  {
   "cell_type": "code",
   "execution_count": 144,
   "metadata": {},
   "outputs": [
    {
     "name": "stdout",
     "output_type": "stream",
     "text": [
      "31\n"
     ]
    },
    {
     "data": {
      "text/plain": [
       "[28, 33, 18, 42, 31, 14, 46, 20, 48, 47]"
      ]
     },
     "execution_count": 144,
     "metadata": {},
     "output_type": "execute_result"
    }
   ],
   "source": [
    "print(len(input))\n",
    "input[:10]"
   ]
  },
  {
   "cell_type": "code",
   "execution_count": 145,
   "metadata": {},
   "outputs": [],
   "source": [
    "input.sort()"
   ]
  },
  {
   "cell_type": "code",
   "execution_count": 146,
   "metadata": {},
   "outputs": [
    {
     "data": {
      "text/plain": [
       "[1, 2, 3, 4, 7, 8, 9, 10, 11, 14]"
      ]
     },
     "execution_count": 146,
     "metadata": {},
     "output_type": "execute_result"
    }
   ],
   "source": [
    "input[:10]"
   ]
  },
  {
   "cell_type": "code",
   "execution_count": 147,
   "metadata": {},
   "outputs": [],
   "source": [
    "gaps = []\n",
    "for ii, x in enumerate(input):\n",
    "    if ii>0:\n",
    "        gaps.append(x-input[ii-1])\n",
    "        \n",
    "#add a gap of 3 for your device's adapter and a gap at 0 for the plug\n",
    "gaps = [input[0]-0]+gaps+[3]"
   ]
  },
  {
   "cell_type": "code",
   "execution_count": 148,
   "metadata": {},
   "outputs": [
    {
     "data": {
      "text/plain": [
       "[1, 1, 1, 1, 3, 1, 1, 1, 1, 3]"
      ]
     },
     "execution_count": 148,
     "metadata": {},
     "output_type": "execute_result"
    }
   ],
   "source": [
    "gaps[:10]"
   ]
  },
  {
   "cell_type": "code",
   "execution_count": 149,
   "metadata": {},
   "outputs": [],
   "source": [
    "threes = len([x for x in gaps if x==3])"
   ]
  },
  {
   "cell_type": "code",
   "execution_count": 150,
   "metadata": {},
   "outputs": [],
   "source": [
    "ones = len([x for x in gaps if x==1])"
   ]
  },
  {
   "cell_type": "code",
   "execution_count": 151,
   "metadata": {},
   "outputs": [
    {
     "data": {
      "text/plain": [
       "220"
      ]
     },
     "execution_count": 151,
     "metadata": {},
     "output_type": "execute_result"
    }
   ],
   "source": [
    "(threes)*(ones)"
   ]
  },
  {
   "cell_type": "markdown",
   "metadata": {},
   "source": [
    "Part 2: how many different ways can adapters be combined validly? \n",
    "No more than 3 gap"
   ]
  },
  {
   "cell_type": "code",
   "execution_count": 152,
   "metadata": {},
   "outputs": [],
   "source": [
    "#gaps of 3 can't change. Test validity of sets of adapters with only gaps of 1 or 2"
   ]
  },
  {
   "cell_type": "code",
   "execution_count": 153,
   "metadata": {},
   "outputs": [],
   "source": [
    "def is_valid(adapters):\n",
    "    tmpadapters = adapters[:]\n",
    "    tmpadapters.sort()\n",
    "    tmpgaps = []\n",
    "    for ii, x in enumerate(adapters):\n",
    "        if ii>0:\n",
    "            tmpgaps.append(x-adapters[ii-1])\n",
    "\n",
    "    return all([gap <= 3 for gap in tmpgaps])"
   ]
  },
  {
   "cell_type": "code",
   "execution_count": 154,
   "metadata": {},
   "outputs": [
    {
     "data": {
      "text/plain": [
       "True"
      ]
     },
     "execution_count": 154,
     "metadata": {},
     "output_type": "execute_result"
    }
   ],
   "source": [
    "is_valid(gaps)\n",
    "is_valid([1,0,5])\n",
    "is_valid([1,0,3])"
   ]
  },
  {
   "cell_type": "code",
   "execution_count": 155,
   "metadata": {},
   "outputs": [],
   "source": [
    "import itertools"
   ]
  },
  {
   "cell_type": "code",
   "execution_count": 156,
   "metadata": {},
   "outputs": [
    {
     "data": {
      "text/plain": [
       "[[(1,), (2,), (3,)], [(1, 2), (1, 3), (2, 3)], [(1, 2, 3)]]"
      ]
     },
     "execution_count": 156,
     "metadata": {},
     "output_type": "execute_result"
    }
   ],
   "source": [
    "s = [1,2,3]\n",
    "[list(itertools.combinations(s, r)) for r in range(1,len(s)+1)]\n"
   ]
  },
  {
   "cell_type": "code",
   "execution_count": 157,
   "metadata": {},
   "outputs": [],
   "source": [
    "def count_valid_combinations(adapters):\n",
    "    #min and max must always be there\n",
    "    tmpadapters = adapters[:]\n",
    "    tmpadapters.sort()\n",
    "    smallest = tmpadapters[0]\n",
    "    largest = tmpadapters[-1]\n",
    "    middle_adapters = tmpadapters[1:-1]\n",
    "    valid_count = 0\n",
    "    for l in range(0,len(middle_adapters)+1):\n",
    "        for combination in itertools.combinations(middle_adapters,l):\n",
    "            #print(combination)\n",
    "            test_list = [smallest]+list(combination)+[largest]\n",
    "            #print(test_list)\n",
    "            if is_valid(test_list):\n",
    "                valid_count+=1\n",
    "\n",
    "    return valid_count"
   ]
  },
  {
   "cell_type": "code",
   "execution_count": 158,
   "metadata": {},
   "outputs": [
    {
     "name": "stdout",
     "output_type": "stream",
     "text": [
      "2\n",
      "2\n"
     ]
    }
   ],
   "source": [
    "print(count_valid_combinations(s))\n",
    "print(count_valid_combinations([0,3,4,6,9]))"
   ]
  },
  {
   "cell_type": "code",
   "execution_count": 159,
   "metadata": {},
   "outputs": [],
   "source": [
    "#full count will be product of counts for all ranges between gaps of 3"
   ]
  },
  {
   "cell_type": "code",
   "execution_count": 181,
   "metadata": {},
   "outputs": [
    {
     "name": "stdout",
     "output_type": "stream",
     "text": [
      "4 [] 7 7\n",
      "9 [7, 8, 9, 10, 11] 7 49\n",
      "10 [14] 1 49\n",
      "14 [17, 18, 19, 20] 4 196\n",
      "17 [23, 24, 25] 2 392\n",
      "18 [28] 1 392\n",
      "23 [31, 32, 33, 34, 35] 7 2744\n",
      "25 [38, 39] 1 2744\n",
      "26 [42] 1 2744\n",
      "31 [45, 46, 47, 48, 49] 7 19208\n"
     ]
    }
   ],
   "source": [
    "adapters=input\n",
    "combination_count = 1\n",
    "last_3 = -1\n",
    "for j, gap in enumerate(gaps):\n",
    "    #final gap always 3 so no special treatment needed there\n",
    "    if (gap == 3):\n",
    "        if last_3 == -1:\n",
    "            current_count = count_valid_combinations([0]+adapters[:j])\n",
    "        else:\n",
    "            current_count = count_valid_combinations(adapters[last_3:j])\n",
    "        combination_count *= current_count\n",
    "        print(j,adapters[last_3:j], current_count, combination_count)\n",
    "        last_3 = j\n"
   ]
  },
  {
   "cell_type": "code",
   "execution_count": 182,
   "metadata": {},
   "outputs": [
    {
     "data": {
      "text/plain": [
       "19208"
      ]
     },
     "execution_count": 182,
     "metadata": {},
     "output_type": "execute_result"
    }
   ],
   "source": [
    "combination_count"
   ]
  },
  {
   "cell_type": "code",
   "execution_count": 171,
   "metadata": {},
   "outputs": [
    {
     "data": {
      "text/plain": [
       "32"
      ]
     },
     "execution_count": 171,
     "metadata": {},
     "output_type": "execute_result"
    }
   ],
   "source": [
    "len(gaps)"
   ]
  },
  {
   "cell_type": "code",
   "execution_count": 172,
   "metadata": {},
   "outputs": [
    {
     "data": {
      "text/plain": [
       "31"
      ]
     },
     "execution_count": 172,
     "metadata": {},
     "output_type": "execute_result"
    }
   ],
   "source": [
    "len(adapters)"
   ]
  },
  {
   "cell_type": "code",
   "execution_count": 176,
   "metadata": {},
   "outputs": [
    {
     "data": {
      "text/plain": [
       "3"
      ]
     },
     "execution_count": 176,
     "metadata": {},
     "output_type": "execute_result"
    }
   ],
   "source": [
    "gaps[-1]"
   ]
  },
  {
   "cell_type": "code",
   "execution_count": null,
   "metadata": {},
   "outputs": [],
   "source": []
  }
 ],
 "metadata": {
  "kernelspec": {
   "display_name": "Python 3",
   "language": "python",
   "name": "python3"
  },
  "language_info": {
   "codemirror_mode": {
    "name": "ipython",
    "version": 3
   },
   "file_extension": ".py",
   "mimetype": "text/x-python",
   "name": "python",
   "nbconvert_exporter": "python",
   "pygments_lexer": "ipython3",
   "version": "3.8.1"
  }
 },
 "nbformat": 4,
 "nbformat_minor": 4
}
