{
 "cells": [
  {
   "cell_type": "markdown",
   "metadata": {},
   "source": [
    "Find list of gaps between ordered entries"
   ]
  },
  {
   "cell_type": "code",
   "execution_count": 183,
   "metadata": {},
   "outputs": [],
   "source": [
    "day10input=open(\"input.txt\")\n",
    "input = day10input.readlines()\n",
    "input = [int(x.strip()) for x in input]\n"
   ]
  },
  {
   "cell_type": "code",
   "execution_count": 184,
   "metadata": {},
   "outputs": [
    {
     "name": "stdout",
     "output_type": "stream",
     "text": [
      "107\n"
     ]
    },
    {
     "data": {
      "text/plain": [
       "[48, 171, 156, 51, 26, 6, 80, 62, 65, 82]"
      ]
     },
     "execution_count": 184,
     "metadata": {},
     "output_type": "execute_result"
    }
   ],
   "source": [
    "print(len(input))\n",
    "input[:10]"
   ]
  },
  {
   "cell_type": "code",
   "execution_count": 185,
   "metadata": {},
   "outputs": [],
   "source": [
    "input.sort()"
   ]
  },
  {
   "cell_type": "code",
   "execution_count": 186,
   "metadata": {},
   "outputs": [
    {
     "data": {
      "text/plain": [
       "[1, 2, 3, 6, 9, 10, 11, 12, 15, 16]"
      ]
     },
     "execution_count": 186,
     "metadata": {},
     "output_type": "execute_result"
    }
   ],
   "source": [
    "input[:10]"
   ]
  },
  {
   "cell_type": "code",
   "execution_count": 187,
   "metadata": {},
   "outputs": [],
   "source": [
    "gaps = []\n",
    "for ii, x in enumerate(input):\n",
    "    if ii>0:\n",
    "        gaps.append(x-input[ii-1])\n",
    "        \n",
    "#add a gap of 3 for your device's adapter and a gap at 0 for the plug\n",
    "gaps = [input[0]-0]+gaps+[3]"
   ]
  },
  {
   "cell_type": "code",
   "execution_count": 188,
   "metadata": {},
   "outputs": [
    {
     "data": {
      "text/plain": [
       "[1, 1, 1, 3, 3, 1, 1, 1, 3, 1]"
      ]
     },
     "execution_count": 188,
     "metadata": {},
     "output_type": "execute_result"
    }
   ],
   "source": [
    "gaps[:10]"
   ]
  },
  {
   "cell_type": "code",
   "execution_count": 189,
   "metadata": {},
   "outputs": [],
   "source": [
    "threes = len([x for x in gaps if x==3])"
   ]
  },
  {
   "cell_type": "code",
   "execution_count": 190,
   "metadata": {},
   "outputs": [],
   "source": [
    "ones = len([x for x in gaps if x==1])"
   ]
  },
  {
   "cell_type": "code",
   "execution_count": 191,
   "metadata": {},
   "outputs": [
    {
     "data": {
      "text/plain": [
       "2475"
      ]
     },
     "execution_count": 191,
     "metadata": {},
     "output_type": "execute_result"
    }
   ],
   "source": [
    "(threes)*(ones)"
   ]
  },
  {
   "cell_type": "markdown",
   "metadata": {},
   "source": [
    "Part 2: how many different ways can adapters be combined validly? \n",
    "No more than 3 gap"
   ]
  },
  {
   "cell_type": "code",
   "execution_count": 192,
   "metadata": {},
   "outputs": [],
   "source": [
    "#gaps of 3 can't change. Test validity of sets of adapters with only gaps of 1 or 2"
   ]
  },
  {
   "cell_type": "code",
   "execution_count": 193,
   "metadata": {},
   "outputs": [],
   "source": [
    "def is_valid(adapters):\n",
    "    tmpadapters = adapters[:]\n",
    "    tmpadapters.sort()\n",
    "    tmpgaps = []\n",
    "    for ii, x in enumerate(adapters):\n",
    "        if ii>0:\n",
    "            tmpgaps.append(x-adapters[ii-1])\n",
    "\n",
    "    return all([gap <= 3 for gap in tmpgaps])"
   ]
  },
  {
   "cell_type": "code",
   "execution_count": 194,
   "metadata": {},
   "outputs": [
    {
     "data": {
      "text/plain": [
       "True"
      ]
     },
     "execution_count": 194,
     "metadata": {},
     "output_type": "execute_result"
    }
   ],
   "source": [
    "is_valid(gaps)\n",
    "is_valid([1,0,5])\n",
    "is_valid([1,0,3])"
   ]
  },
  {
   "cell_type": "code",
   "execution_count": 195,
   "metadata": {},
   "outputs": [],
   "source": [
    "import itertools"
   ]
  },
  {
   "cell_type": "code",
   "execution_count": 196,
   "metadata": {},
   "outputs": [
    {
     "data": {
      "text/plain": [
       "[[(1,), (2,), (3,)], [(1, 2), (1, 3), (2, 3)], [(1, 2, 3)]]"
      ]
     },
     "execution_count": 196,
     "metadata": {},
     "output_type": "execute_result"
    }
   ],
   "source": [
    "s = [1,2,3]\n",
    "[list(itertools.combinations(s, r)) for r in range(1,len(s)+1)]\n"
   ]
  },
  {
   "cell_type": "code",
   "execution_count": 197,
   "metadata": {},
   "outputs": [],
   "source": [
    "def count_valid_combinations(adapters):\n",
    "    #min and max must always be there\n",
    "    tmpadapters = adapters[:]\n",
    "    tmpadapters.sort()\n",
    "    smallest = tmpadapters[0]\n",
    "    largest = tmpadapters[-1]\n",
    "    middle_adapters = tmpadapters[1:-1]\n",
    "    valid_count = 0\n",
    "    for l in range(0,len(middle_adapters)+1):\n",
    "        for combination in itertools.combinations(middle_adapters,l):\n",
    "            #print(combination)\n",
    "            test_list = [smallest]+list(combination)+[largest]\n",
    "            #print(test_list)\n",
    "            if is_valid(test_list):\n",
    "                valid_count+=1\n",
    "\n",
    "    return valid_count"
   ]
  },
  {
   "cell_type": "code",
   "execution_count": 198,
   "metadata": {},
   "outputs": [
    {
     "name": "stdout",
     "output_type": "stream",
     "text": [
      "2\n",
      "2\n"
     ]
    }
   ],
   "source": [
    "print(count_valid_combinations(s))\n",
    "print(count_valid_combinations([0,3,4,6,9]))"
   ]
  },
  {
   "cell_type": "code",
   "execution_count": 199,
   "metadata": {},
   "outputs": [],
   "source": [
    "#full count will be product of counts for all ranges between gaps of 3"
   ]
  },
  {
   "cell_type": "code",
   "execution_count": 200,
   "metadata": {},
   "outputs": [
    {
     "name": "stdout",
     "output_type": "stream",
     "text": [
      "3 [] 4 4\n",
      "4 [6] 1 4\n",
      "8 [9, 10, 11, 12] 4 16\n",
      "11 [15, 16, 17] 2 32\n",
      "13 [20, 21] 1 32\n",
      "17 [24, 25, 26, 27] 4 128\n",
      "22 [30, 31, 32, 33, 34] 7 896\n",
      "25 [37, 38, 39] 2 1792\n",
      "29 [42, 43, 44, 45] 4 7168\n",
      "34 [48, 49, 50, 51, 52] 7 50176\n",
      "39 [55, 56, 57, 58, 59] 7 351232\n",
      "43 [62, 63, 64, 65] 4 1404928\n",
      "47 [68, 69, 70, 71] 4 5619712\n",
      "51 [74, 75, 76, 77] 4 22478848\n",
      "55 [80, 81, 82, 83] 4 89915392\n",
      "59 [86, 87, 88, 89] 4 359661568\n",
      "60 [92] 1 359661568\n",
      "63 [95, 96, 97] 2 719323136\n",
      "66 [100, 101, 102] 2 1438646272\n",
      "67 [105] 1 1438646272\n",
      "68 [108] 1 1438646272\n",
      "69 [111] 1 1438646272\n",
      "70 [114] 1 1438646272\n",
      "75 [117, 118, 119, 120, 121] 7 10070523904\n",
      "76 [124] 1 10070523904\n",
      "80 [127, 128, 129, 130] 4 40282095616\n",
      "83 [133, 134, 135] 2 80564191232\n",
      "88 [138, 139, 140, 141, 142] 7 563949338624\n",
      "92 [145, 146, 147, 148] 4 2255797354496\n",
      "93 [151] 1 2255797354496\n",
      "98 [154, 155, 156, 157, 158] 7 15790581481472\n",
      "102 [161, 162, 163, 164] 4 63162325925888\n",
      "107 [167, 168, 169, 170, 171] 7 442136281481216\n"
     ]
    }
   ],
   "source": [
    "adapters=input\n",
    "combination_count = 1\n",
    "last_3 = -1\n",
    "for j, gap in enumerate(gaps):\n",
    "    #final gap always 3 so no special treatment needed there\n",
    "    if (gap == 3):\n",
    "        if last_3 == -1:\n",
    "            current_count = count_valid_combinations([0]+adapters[:j])\n",
    "        else:\n",
    "            current_count = count_valid_combinations(adapters[last_3:j])\n",
    "        combination_count *= current_count\n",
    "        print(j,adapters[last_3:j], current_count, combination_count)\n",
    "        last_3 = j\n"
   ]
  },
  {
   "cell_type": "code",
   "execution_count": 201,
   "metadata": {},
   "outputs": [
    {
     "data": {
      "text/plain": [
       "442136281481216"
      ]
     },
     "execution_count": 201,
     "metadata": {},
     "output_type": "execute_result"
    }
   ],
   "source": [
    "combination_count"
   ]
  },
  {
   "cell_type": "code",
   "execution_count": 202,
   "metadata": {},
   "outputs": [
    {
     "data": {
      "text/plain": [
       "108"
      ]
     },
     "execution_count": 202,
     "metadata": {},
     "output_type": "execute_result"
    }
   ],
   "source": [
    "len(gaps)"
   ]
  },
  {
   "cell_type": "code",
   "execution_count": 203,
   "metadata": {},
   "outputs": [
    {
     "data": {
      "text/plain": [
       "107"
      ]
     },
     "execution_count": 203,
     "metadata": {},
     "output_type": "execute_result"
    }
   ],
   "source": [
    "len(adapters)"
   ]
  },
  {
   "cell_type": "code",
   "execution_count": 204,
   "metadata": {},
   "outputs": [
    {
     "data": {
      "text/plain": [
       "3"
      ]
     },
     "execution_count": 204,
     "metadata": {},
     "output_type": "execute_result"
    }
   ],
   "source": [
    "gaps[-1]"
   ]
  },
  {
   "cell_type": "code",
   "execution_count": null,
   "metadata": {},
   "outputs": [],
   "source": []
  }
 ],
 "metadata": {
  "kernelspec": {
   "display_name": "Python 3",
   "language": "python",
   "name": "python3"
  },
  "language_info": {
   "codemirror_mode": {
    "name": "ipython",
    "version": 3
   },
   "file_extension": ".py",
   "mimetype": "text/x-python",
   "name": "python",
   "nbconvert_exporter": "python",
   "pygments_lexer": "ipython3",
   "version": "3.7.1"
  }
 },
 "nbformat": 4,
 "nbformat_minor": 4
}
