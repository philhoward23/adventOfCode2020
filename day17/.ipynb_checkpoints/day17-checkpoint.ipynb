{
 "cells": [
  {
   "cell_type": "markdown",
   "metadata": {},
   "source": [
    "Part 1: iterate rules 6 times"
   ]
  },
  {
   "cell_type": "code",
   "execution_count": 170,
   "metadata": {},
   "outputs": [
    {
     "name": "stdout",
     "output_type": "stream",
     "text": [
      "8\n",
      "8\n",
      "['.###..#.', '##.##...', '....#.#.', '#..#.###', '...#...#', '##.#...#', '#..##.##', '#.......']\n"
     ]
    }
   ],
   "source": [
    "input=open(\"input.txt\")\n",
    "input = input.readlines()\n",
    "input = [x.strip() for x in input]\n",
    "print(len(input))\n",
    "print(len(input[1]))\n",
    "print(input[:10])"
   ]
  },
  {
   "cell_type": "markdown",
   "metadata": {},
   "source": [
    "If a cube is active and exactly 2 or 3 of its neighbors are also active, the cube remains active. Otherwise, the cube becomes inactive.\n",
    "\n",
    "If a cube is inactive but exactly 3 of its neighbors are active, the cube becomes active. Otherwise, the cube remains inactive."
   ]
  },
  {
   "cell_type": "code",
   "execution_count": 171,
   "metadata": {},
   "outputs": [],
   "source": [
    "active_coords = []\n",
    "for y, row in enumerate(input):\n",
    "    for x, loc in enumerate(list(row)):\n",
    "        if loc == '#':\n",
    "            active_coords.append((x,y,0))"
   ]
  },
  {
   "cell_type": "code",
   "execution_count": 172,
   "metadata": {},
   "outputs": [],
   "source": [
    "def summarise_neighbours(loc,active_coords):\n",
    "    neighbours = 0\n",
    "    coord_list = []\n",
    "    xcurr,ycurr,zcurr = loc[0],loc[1], loc[2]\n",
    "    for x in range(xcurr-1,xcurr+2):\n",
    "        for y in range(ycurr-1,ycurr+2):\n",
    "            for z in range(zcurr-1,zcurr+2):\n",
    "                coord = (x,y,z)\n",
    "                coord_list.append(coord)\n",
    "                if (coord in active_coords) and (coord != loc):\n",
    "                    neighbours += 1\n",
    "    return(neighbours,coord_list)\n"
   ]
  },
  {
   "cell_type": "code",
   "execution_count": 173,
   "metadata": {},
   "outputs": [
    {
     "data": {
      "text/plain": [
       "[(1, 0, 0),\n",
       " (2, 0, 0),\n",
       " (3, 0, 0),\n",
       " (6, 0, 0),\n",
       " (0, 1, 0),\n",
       " (1, 1, 0),\n",
       " (3, 1, 0),\n",
       " (4, 1, 0),\n",
       " (4, 2, 0),\n",
       " (6, 2, 0),\n",
       " (0, 3, 0),\n",
       " (3, 3, 0),\n",
       " (5, 3, 0),\n",
       " (6, 3, 0),\n",
       " (7, 3, 0),\n",
       " (3, 4, 0),\n",
       " (7, 4, 0),\n",
       " (0, 5, 0),\n",
       " (1, 5, 0),\n",
       " (3, 5, 0),\n",
       " (7, 5, 0),\n",
       " (0, 6, 0),\n",
       " (3, 6, 0),\n",
       " (4, 6, 0),\n",
       " (6, 6, 0),\n",
       " (7, 6, 0),\n",
       " (0, 7, 0)]"
      ]
     },
     "execution_count": 173,
     "metadata": {},
     "output_type": "execute_result"
    }
   ],
   "source": [
    "active_coords"
   ]
  },
  {
   "cell_type": "code",
   "execution_count": 174,
   "metadata": {},
   "outputs": [],
   "source": [
    "def cycle(coord_list):\n",
    "    new_coord_list = []\n",
    "    neighbours = {}\n",
    "    for coord in coord_list:\n",
    "        active_neighbours, current_neighbours = summarise_neighbours(coord,coord_list)\n",
    "        #print(active_neighbours,current_neighbours)\n",
    "        if active_neighbours in [2,3]:\n",
    "            new_coord_list.append(coord)\n",
    "        for neighbour in current_neighbours:\n",
    "            if neighbour in neighbours:\n",
    "                neighbours[neighbour] += 1\n",
    "            else:\n",
    "                neighbours[neighbour] = 1\n",
    "        #print(new_coord_list)\n",
    "    #also active inactives with 3 neighbours\n",
    "    for loc in neighbours:\n",
    "        if (neighbours[loc] == 3) and loc not in coord_list:\n",
    "            new_coord_list.append(loc)\n",
    "    return(new_coord_list)"
   ]
  },
  {
   "cell_type": "code",
   "execution_count": 175,
   "metadata": {},
   "outputs": [
    {
     "data": {
      "text/plain": [
       "[(1, 0, 0),\n",
       " (3, 0, 0),\n",
       " (0, 1, 0),\n",
       " (1, 1, 0),\n",
       " (4, 1, 0),\n",
       " (6, 2, 0),\n",
       " (3, 3, 0),\n",
       " (5, 3, 0),\n",
       " (7, 3, 0),\n",
       " (3, 4, 0),\n",
       " (7, 4, 0),\n",
       " (0, 5, 0),\n",
       " (1, 5, 0),\n",
       " (3, 5, 0),\n",
       " (7, 5, 0),\n",
       " (0, 6, 0),\n",
       " (3, 6, 0),\n",
       " (4, 6, 0),\n",
       " (6, 6, 0),\n",
       " (7, 6, 0),\n",
       " (0, 0, -1),\n",
       " (0, 0, 0),\n",
       " (0, 0, 1),\n",
       " (0, 1, -1),\n",
       " (0, 1, 1),\n",
       " (2, -1, -1),\n",
       " (2, -1, 0),\n",
       " (2, -1, 1),\n",
       " (4, 0, -1),\n",
       " (4, 0, 0),\n",
       " (4, 0, 1),\n",
       " (0, 2, -1),\n",
       " (0, 2, 0),\n",
       " (0, 2, 1),\n",
       " (1, 2, -1),\n",
       " (1, 2, 0),\n",
       " (1, 2, 1),\n",
       " (2, 2, -1),\n",
       " (2, 2, 0),\n",
       " (2, 2, 1),\n",
       " (3, 3, -1),\n",
       " (3, 3, 1),\n",
       " (7, 2, -1),\n",
       " (7, 2, 0),\n",
       " (7, 2, 1),\n",
       " (0, 4, -1),\n",
       " (0, 4, 0),\n",
       " (0, 4, 1),\n",
       " (1, 4, -1),\n",
       " (1, 4, 0),\n",
       " (1, 4, 1),\n",
       " (3, 4, -1),\n",
       " (3, 4, 1),\n",
       " (8, 4, -1),\n",
       " (8, 4, 0),\n",
       " (8, 4, 1),\n",
       " (8, 5, -1),\n",
       " (8, 5, 0),\n",
       " (8, 5, 1),\n",
       " (-1, 6, -1),\n",
       " (-1, 6, 0),\n",
       " (-1, 6, 1),\n",
       " (0, 5, -1),\n",
       " (0, 5, 1),\n",
       " (1, 5, -1),\n",
       " (1, 5, 1),\n",
       " (2, 6, -1),\n",
       " (2, 6, 0),\n",
       " (2, 6, 1),\n",
       " (3, 6, -1),\n",
       " (3, 6, 1),\n",
       " (4, 6, -1),\n",
       " (4, 6, 1),\n",
       " (6, 6, -1),\n",
       " (6, 6, 1),\n",
       " (7, 6, -1),\n",
       " (7, 6, 1)]"
      ]
     },
     "execution_count": 175,
     "metadata": {},
     "output_type": "execute_result"
    }
   ],
   "source": [
    "cycle(active_coords)"
   ]
  },
  {
   "cell_type": "code",
   "execution_count": 176,
   "metadata": {},
   "outputs": [],
   "source": [
    "for ii in range(6):\n",
    "    new_coords = cycle(active_coords)\n",
    "    active_coords = new_coords"
   ]
  },
  {
   "cell_type": "code",
   "execution_count": 177,
   "metadata": {},
   "outputs": [
    {
     "data": {
      "text/plain": [
       "304"
      ]
     },
     "execution_count": 177,
     "metadata": {},
     "output_type": "execute_result"
    }
   ],
   "source": [
    "len(active_coords)"
   ]
  },
  {
   "cell_type": "markdown",
   "metadata": {},
   "source": [
    "Part 2: add a dimension"
   ]
  },
  {
   "cell_type": "code",
   "execution_count": 178,
   "metadata": {},
   "outputs": [
    {
     "name": "stdout",
     "output_type": "stream",
     "text": [
      "[(1, 0, 0, 0), (2, 0, 0, 0), (3, 0, 0, 0), (6, 0, 0, 0), (0, 1, 0, 0), (1, 1, 0, 0), (3, 1, 0, 0), (4, 1, 0, 0), (4, 2, 0, 0), (6, 2, 0, 0), (0, 3, 0, 0), (3, 3, 0, 0), (5, 3, 0, 0), (6, 3, 0, 0), (7, 3, 0, 0), (3, 4, 0, 0), (7, 4, 0, 0), (0, 5, 0, 0), (1, 5, 0, 0), (3, 5, 0, 0), (7, 5, 0, 0), (0, 6, 0, 0), (3, 6, 0, 0), (4, 6, 0, 0), (6, 6, 0, 0), (7, 6, 0, 0), (0, 7, 0, 0)]\n"
     ]
    }
   ],
   "source": [
    "active_coords_2 = []\n",
    "for y, row in enumerate(input):\n",
    "    for x, loc in enumerate(list(row)):\n",
    "        if loc == '#':\n",
    "            active_coords_2.append((x,y,0,0))\n",
    "print(active_coords_2)"
   ]
  },
  {
   "cell_type": "code",
   "execution_count": 179,
   "metadata": {},
   "outputs": [],
   "source": [
    "def summarise_neighbours_2(loc,active_coords):\n",
    "    neighbours = 0\n",
    "    coord_list = []\n",
    "    xcurr,ycurr,zcurr,wcurr = loc[0],loc[1], loc[2], loc[3]\n",
    "    for x in range(xcurr-1,xcurr+2):\n",
    "        for y in range(ycurr-1,ycurr+2):\n",
    "            for z in range(zcurr-1,zcurr+2):\n",
    "                for w in range(wcurr-1,wcurr+2):\n",
    "                    coord = (x,y,z,w)\n",
    "                    coord_list.append(coord)\n",
    "                    if (coord in active_coords) and (coord != loc):\n",
    "                        neighbours += 1\n",
    "    return(neighbours,coord_list)\n"
   ]
  },
  {
   "cell_type": "code",
   "execution_count": 180,
   "metadata": {},
   "outputs": [],
   "source": [
    "def cycle_2(coord_list):\n",
    "    new_coord_list = []\n",
    "    neighbours = {}\n",
    "    for coord in coord_list:\n",
    "        active_neighbours, current_neighbours = summarise_neighbours_2(coord,coord_list)\n",
    "        #print(active_neighbours,current_neighbours)\n",
    "        if active_neighbours in [2,3]:\n",
    "            new_coord_list.append(coord)\n",
    "        for neighbour in current_neighbours:\n",
    "            if neighbour in neighbours:\n",
    "                neighbours[neighbour] += 1\n",
    "            else:\n",
    "                neighbours[neighbour] = 1\n",
    "        #print(new_coord_list)\n",
    "    #also active inactives with 3 neighbours\n",
    "    for loc in neighbours:\n",
    "        if (neighbours[loc] == 3) and loc not in coord_list:\n",
    "            new_coord_list.append(loc)\n",
    "    return(new_coord_list)"
   ]
  },
  {
   "cell_type": "code",
   "execution_count": 181,
   "metadata": {},
   "outputs": [],
   "source": [
    "for ii in range(6):\n",
    "    new_coords = cycle_2(active_coords_2)\n",
    "    active_coords_2 = new_coords"
   ]
  },
  {
   "cell_type": "code",
   "execution_count": 182,
   "metadata": {},
   "outputs": [
    {
     "data": {
      "text/plain": [
       "1868"
      ]
     },
     "execution_count": 182,
     "metadata": {},
     "output_type": "execute_result"
    }
   ],
   "source": [
    "len(active_coords_2)"
   ]
  },
  {
   "cell_type": "code",
   "execution_count": null,
   "metadata": {},
   "outputs": [],
   "source": []
  },
  {
   "cell_type": "code",
   "execution_count": null,
   "metadata": {},
   "outputs": [],
   "source": []
  },
  {
   "cell_type": "code",
   "execution_count": null,
   "metadata": {},
   "outputs": [],
   "source": []
  }
 ],
 "metadata": {
  "kernelspec": {
   "display_name": "Python 3",
   "language": "python",
   "name": "python3"
  },
  "language_info": {
   "codemirror_mode": {
    "name": "ipython",
    "version": 3
   },
   "file_extension": ".py",
   "mimetype": "text/x-python",
   "name": "python",
   "nbconvert_exporter": "python",
   "pygments_lexer": "ipython3",
   "version": "3.8.1"
  }
 },
 "nbformat": 4,
 "nbformat_minor": 4
}
