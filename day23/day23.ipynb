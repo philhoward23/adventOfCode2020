{
 "cells": [
  {
   "cell_type": "markdown",
   "metadata": {},
   "source": [
    "Part 1: play cup game"
   ]
  },
  {
   "cell_type": "code",
   "execution_count": 65,
   "metadata": {},
   "outputs": [],
   "source": [
    "input = list('562893147')"
   ]
  },
  {
   "cell_type": "code",
   "execution_count": 66,
   "metadata": {},
   "outputs": [
    {
     "data": {
      "text/plain": [
       "9"
      ]
     },
     "execution_count": 66,
     "metadata": {},
     "output_type": "execute_result"
    }
   ],
   "source": [
    "len(input)"
   ]
  },
  {
   "cell_type": "code",
   "execution_count": 67,
   "metadata": {},
   "outputs": [
    {
     "data": {
      "text/plain": [
       "['5', '6', '2', '8', '9', '3', '1', '4', '7']"
      ]
     },
     "execution_count": 67,
     "metadata": {},
     "output_type": "execute_result"
    }
   ],
   "source": [
    "input"
   ]
  },
  {
   "cell_type": "code",
   "execution_count": 68,
   "metadata": {},
   "outputs": [],
   "source": [
    "#create map of cups to neighbours\n",
    "cups = {'5':['7','6'],\n",
    "        '6':['5','2'],\n",
    "        '2':['6','8'],\n",
    "        '8':['2','9'],\n",
    "        '9':['8','3'],\n",
    "        '3':['9','1'],\n",
    "        '1':['3','4'],\n",
    "        '4':['1','7'],\n",
    "        '7':['4','5']}"
   ]
  },
  {
   "cell_type": "code",
   "execution_count": 146,
   "metadata": {},
   "outputs": [
    {
     "data": {
      "text/plain": [
       "{'5': ['7', '6'],\n",
       " '6': ['5', '2'],\n",
       " '2': ['6', '8'],\n",
       " '8': ['2', '9'],\n",
       " '9': ['8', '3'],\n",
       " '3': ['9', '1'],\n",
       " '1': ['3', '4'],\n",
       " '4': ['1', '7'],\n",
       " '7': ['4', '5']}"
      ]
     },
     "execution_count": 146,
     "metadata": {},
     "output_type": "execute_result"
    }
   ],
   "source": [
    "cups"
   ]
  },
  {
   "cell_type": "code",
   "execution_count": 71,
   "metadata": {},
   "outputs": [
    {
     "name": "stdout",
     "output_type": "stream",
     "text": [
      "{'5': ['7', '6'], '6': ['5', '2'], '2': ['6', '8'], '8': ['2', '9'], '9': ['8', '3'], '3': ['9', '1'], '1': ['3', '4'], '4': ['1', '7'], '7': ['4', '5']}\n"
     ]
    }
   ],
   "source": [
    "cups = {}\n",
    "for ii in range(len(input)):\n",
    "    cup = input[ii]\n",
    "    if ii == 0:\n",
    "        cups[cup] = [input[-1], input[1]]\n",
    "    elif ii == len(input) - 1:\n",
    "        cups[cup] = [input[-2], input[0]]\n",
    "    else:\n",
    "        cups[cup] = [input[ii-1], input[ii+1]]\n",
    "                          \n",
    "print(cups)   "
   ]
  },
  {
   "cell_type": "code",
   "execution_count": 72,
   "metadata": {},
   "outputs": [],
   "source": [
    "test_input = list('389125467')"
   ]
  },
  {
   "cell_type": "code",
   "execution_count": 73,
   "metadata": {},
   "outputs": [
    {
     "name": "stdout",
     "output_type": "stream",
     "text": [
      "{'3': ['7', '8'], '8': ['3', '9'], '9': ['8', '1'], '1': ['9', '2'], '2': ['1', '5'], '5': ['2', '4'], '4': ['5', '6'], '6': ['4', '7'], '7': ['6', '3']}\n"
     ]
    }
   ],
   "source": [
    "test_cups = {}\n",
    "for ii in range(len(test_input)):\n",
    "    cup = test_input[ii]\n",
    "    if ii == 0:\n",
    "        test_cups[cup] = [test_input[-1], test_input[1]]\n",
    "    elif ii == len(test_input) - 1:\n",
    "        test_cups[cup] = [test_input[-2], test_input[0]]\n",
    "    else:\n",
    "        test_cups[cup] = [test_input[ii-1], test_input[ii+1]]\n",
    "                          \n",
    "print(test_cups)              "
   ]
  },
  {
   "cell_type": "code",
   "execution_count": 135,
   "metadata": {},
   "outputs": [],
   "source": [
    "def move(arrangement, current):\n",
    "    next_cup = arrangement[current][1]\n",
    "    removed = []\n",
    "    for ii in range(3):\n",
    "        #print(next_cup)\n",
    "        arrangement[current][1] = arrangement[next_cup][1]\n",
    "        arrangement[arrangement[next_cup][1]][0] = current\n",
    "        removed.append(next_cup)\n",
    "        del(arrangement[next_cup])\n",
    "        next_cup = arrangement[current][1]    \n",
    "    #print('removed', removed)\n",
    "    #now pick target\n",
    "    for ii in range(1,len(arrangement)+3):\n",
    "        if ii < int(current):\n",
    "            target = str(int(current) - ii)\n",
    "        else:\n",
    "            target = str(int(current) - ii + len(arrangement) + 3)\n",
    "        if target in arrangement:\n",
    "            break\n",
    "    #print('target', target)\n",
    "    #add removed back \n",
    "    last_cup = target\n",
    "    next_cup = arrangement[target][1]\n",
    "    for cup in removed:\n",
    "        arrangement[last_cup][1] = cup\n",
    "        arrangement[next_cup][0] = cup\n",
    "        arrangement[cup] = [last_cup, next_cup]\n",
    "        last_cup = cup\n",
    "    return(arrangement)"
   ]
  },
  {
   "cell_type": "code",
   "execution_count": 143,
   "metadata": {},
   "outputs": [],
   "source": [
    "def play_game(config, current,rounds, print_every = 1000):\n",
    "    for jj in range(rounds):\n",
    "        config = move(config, current)\n",
    "        current = config[current][1]\n",
    "        if jj % print_every == 0:\n",
    "            print(current)\n",
    "        #if int(current) < 10:\n",
    "            #print(current, config[current])\n",
    "    return(config, current)"
   ]
  },
  {
   "cell_type": "code",
   "execution_count": 129,
   "metadata": {},
   "outputs": [
    {
     "name": "stdout",
     "output_type": "stream",
     "text": [
      "9\n",
      "9 ['5', '3']\n",
      "6 ['9', '2']\n",
      "1 ['6', '4']\n",
      "2 ['1', '8']\n",
      "6 ['2', '4']\n",
      "1 ['6', '8']\n",
      "7 ['1', '5']\n",
      "6 ['7', '5']\n",
      "8 ['6', '3']\n",
      "9 ['8', '2']\n",
      "3 ['9', '4']\n",
      "8 ['3', '2']\n",
      "6 ['8', '1']\n",
      "4 ['6', '5']\n",
      "2 ['4', '9']\n",
      "1 ['2', '9']\n",
      "7 ['1', '8']\n",
      "3 ['7', '5']\n",
      "9 ['3', '4']\n",
      "8 ['9', '4']\n",
      "6 ['8', '1']\n",
      "2 ['6', '5']\n",
      "4 ['2', '3']\n",
      "6 ['4', '5']\n",
      "2 ['6', '3']\n",
      "4 ['2', '5']\n",
      "9 ['4', '8']\n",
      "2 ['9', '5']\n",
      "6 ['2', '1']\n",
      "7 ['6', '3']\n",
      "5 ['7', '8']\n",
      "6 ['5', '3']\n",
      "9 ['6', '2']\n",
      "5 ['9', '3']\n",
      "2 ['5', '3']\n",
      "1 ['2', '3']\n",
      "7 ['1', '6']\n",
      "8 ['7', '9']\n",
      "3 ['8', '4']\n",
      "7 ['3', '9']\n",
      "4 ['7', '9']\n",
      "2 ['4', '1']\n",
      "9 ['2', '5']\n",
      "8 ['9', '5']\n",
      "3 ['8', '7']\n",
      "1 ['3', '4']\n",
      "5 ['1', '6']\n",
      "7 ['5', '9']\n",
      "6 ['7', '9']\n",
      "4 ['6', '2']\n",
      "9 ['4', '8']\n",
      "1 ['9', '5']\n",
      "3 ['1', '2']\n",
      "7 ['3', '8']\n",
      "1 ['7', '2']\n",
      "4 ['1', '9']\n",
      "6 ['4', '8']\n",
      "5 ['6', '8']\n",
      "2 ['5', '7']\n",
      "8 ['2', '3']\n",
      "7 ['8', '3']\n",
      "1 ['7', '4']\n",
      "9 ['1', '6']\n",
      "3 ['9', '2']\n",
      "4 ['3', '5']\n",
      "2 ['4', '8']\n",
      "3 ['2', '5']\n",
      "8 ['3', '6']\n",
      "2 ['8', '5']\n",
      "9 ['2', '4']\n",
      "7 ['9', '6']\n",
      "4 ['7', '1']\n",
      "3 ['4', '1']\n",
      "8 ['3', '2']\n",
      "6 ['8', '9']\n",
      "1 ['6', '5']\n",
      "2 ['1', '4']\n",
      "6 ['2', '5']\n",
      "1 ['6', '4']\n",
      "7 ['1', '3']\n",
      "6 ['7', '3']\n",
      "4 ['6', '5']\n",
      "2 ['4', '5']\n",
      "9 ['2', '1']\n",
      "8 ['9', '1']\n",
      "7 ['8', '1']\n",
      "6 ['7', '1']\n",
      "4 ['6', '1']\n",
      "2 ['4', '1']\n",
      "9 ['2', '8']\n",
      "1 ['9', '5']\n",
      "6 ['1', '5']\n",
      "3 ['6', '4']\n",
      "7 ['3', '2']\n",
      "8 ['7', '9']\n",
      "2 ['8', '4']\n",
      "7 ['2', '9']\n",
      "5 ['7', '3']\n",
      "1 ['5', '4']\n",
      "9 ['1', '8']\n"
     ]
    }
   ],
   "source": [
    "import copy\n",
    "final_config, start = play_game(copy.deepcopy(cups),'5',100)"
   ]
  },
  {
   "cell_type": "code",
   "execution_count": 130,
   "metadata": {},
   "outputs": [
    {
     "data": {
      "text/plain": [
       "({'7': ['2', '5'],\n",
       "  '8': ['9', '2'],\n",
       "  '2': ['8', '7'],\n",
       "  '5': ['7', '4'],\n",
       "  '1': ['6', '9'],\n",
       "  '9': ['1', '8'],\n",
       "  '4': ['5', '3'],\n",
       "  '3': ['4', '6'],\n",
       "  '6': ['3', '1']},\n",
       " '9')"
      ]
     },
     "execution_count": 130,
     "metadata": {},
     "output_type": "execute_result"
    }
   ],
   "source": [
    "final_config, start"
   ]
  },
  {
   "cell_type": "code",
   "execution_count": 131,
   "metadata": {},
   "outputs": [
    {
     "name": "stdout",
     "output_type": "stream",
     "text": [
      "98275436\n"
     ]
    }
   ],
   "source": [
    "result = ''\n",
    "next_cup = '1'\n",
    "for ii in range(len(final_config) - 1):\n",
    "    next_cup = final_config[next_cup][1]\n",
    "    result = result + next_cup\n",
    "print(result)"
   ]
  },
  {
   "cell_type": "markdown",
   "metadata": {},
   "source": [
    "Part 2: 1 million cups, 10 million moves"
   ]
  },
  {
   "cell_type": "code",
   "execution_count": 137,
   "metadata": {},
   "outputs": [],
   "source": [
    "test_input = list('389125467')\n",
    "test_cups = {}\n",
    "for ii in range(len(test_input)):\n",
    "    cup = test_input[ii]\n",
    "    if ii == 0:\n",
    "        test_cups[cup] = ['1000000', test_input[1]]\n",
    "    elif ii == len(test_input) - 1:\n",
    "        test_cups[cup] = [test_input[-2], str(len(test_input) + 1)]\n",
    "    else:\n",
    "        test_cups[cup] = [test_input[ii-1], test_input[ii+1]]\n",
    "test_cups['1000000'] = ['999999',test_input[0]]\n",
    "test_cups[str(len(test_input) + 1)] = [test_input[-1],str(len(test_input) + 2)]\n",
    "for jj in range(len(test_input)+2,1000000):\n",
    "    test_cups[str(jj)] = [str(jj-1), str(jj+1)]\n"
   ]
  },
  {
   "cell_type": "code",
   "execution_count": 138,
   "metadata": {},
   "outputs": [
    {
     "name": "stdout",
     "output_type": "stream",
     "text": [
      "['999999', '3']\n",
      "['999998', '1000000']\n",
      "['9', '2']\n",
      "['1000000', '8']\n",
      "['3', '9']\n",
      "['8', '1']\n",
      "['7', '11']\n"
     ]
    }
   ],
   "source": [
    "print(test_cups['1000000'])   \n",
    "print(test_cups['999999'])   \n",
    "print(test_cups['1'])   \n",
    "print(test_cups['3'])     \n",
    "print(test_cups['8'])     \n",
    "print(test_cups['9'])     \n",
    "print(test_cups['10'])     "
   ]
  },
  {
   "cell_type": "code",
   "execution_count": 147,
   "metadata": {},
   "outputs": [
    {
     "name": "stdout",
     "output_type": "stream",
     "text": [
      "2\n",
      "558595\n"
     ]
    }
   ],
   "source": [
    "final_config, start = play_game(copy.deepcopy(test_cups),'3',10000000,print_every=5000000)"
   ]
  },
  {
   "cell_type": "code",
   "execution_count": 145,
   "metadata": {},
   "outputs": [
    {
     "name": "stdout",
     "output_type": "stream",
     "text": [
      "7\n",
      "4\n",
      "28\n"
     ]
    }
   ],
   "source": [
    "result = 1\n",
    "next_cup = '1'\n",
    "for ii in range(2):\n",
    "    next_cup = final_config[next_cup][1]\n",
    "    print(next_cup)\n",
    "    result = result * int(next_cup)\n",
    "print(result)"
   ]
  },
  {
   "cell_type": "code",
   "execution_count": 148,
   "metadata": {},
   "outputs": [],
   "source": [
    "input = list('562893147')\n",
    "cups = {}\n",
    "for ii in range(len(input)):\n",
    "    cup = input[ii]\n",
    "    if ii == 0:\n",
    "        cups[cup] = ['1000000', input[1]]\n",
    "    elif ii == len(input) - 1:\n",
    "        cups[cup] = [input[-2], str(len(input) + 1)]\n",
    "    else:\n",
    "        cups[cup] = [input[ii-1], input[ii+1]]\n",
    "cups['1000000'] = ['999999',input[0]]\n",
    "cups[str(len(input) + 1)] = [input[-1],str(len(input) + 2)]\n",
    "for jj in range(len(input)+2,1000000):\n",
    "    cups[str(jj)] = [str(jj-1), str(jj+1)]\n"
   ]
  },
  {
   "cell_type": "code",
   "execution_count": 149,
   "metadata": {},
   "outputs": [
    {
     "name": "stdout",
     "output_type": "stream",
     "text": [
      "9\n",
      "725975\n"
     ]
    }
   ],
   "source": [
    "final_config, start = play_game(copy.deepcopy(cups),'5',10000000,print_every=5000000)"
   ]
  },
  {
   "cell_type": "code",
   "execution_count": 150,
   "metadata": {},
   "outputs": [
    {
     "name": "stdout",
     "output_type": "stream",
     "text": [
      "871396\n",
      "150509\n",
      "131152940564\n"
     ]
    }
   ],
   "source": [
    "result = 1\n",
    "next_cup = '1'\n",
    "for ii in range(2):\n",
    "    next_cup = final_config[next_cup][1]\n",
    "    print(next_cup)\n",
    "    result = result * int(next_cup)\n",
    "print(result)"
   ]
  },
  {
   "cell_type": "code",
   "execution_count": null,
   "metadata": {},
   "outputs": [],
   "source": []
  }
 ],
 "metadata": {
  "kernelspec": {
   "display_name": "Python 3",
   "language": "python",
   "name": "python3"
  },
  "language_info": {
   "codemirror_mode": {
    "name": "ipython",
    "version": 3
   },
   "file_extension": ".py",
   "mimetype": "text/x-python",
   "name": "python",
   "nbconvert_exporter": "python",
   "pygments_lexer": "ipython3",
   "version": "3.8.1"
  }
 },
 "nbformat": 4,
 "nbformat_minor": 4
}
