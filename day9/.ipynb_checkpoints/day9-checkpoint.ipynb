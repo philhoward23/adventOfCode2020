{
 "cells": [
  {
   "cell_type": "markdown",
   "metadata": {},
   "source": [
    "Find first cell that is not the sum of any 2 of the previous 25"
   ]
  },
  {
   "cell_type": "code",
   "execution_count": 2,
   "metadata": {},
   "outputs": [],
   "source": [
    "day9input=open(\"input.txt\")\n",
    "input = day9input.readlines()\n",
    "input = [int(x.strip()) for x in input]\n"
   ]
  },
  {
   "cell_type": "code",
   "execution_count": 3,
   "metadata": {},
   "outputs": [
    {
     "name": "stdout",
     "output_type": "stream",
     "text": [
      "1000\n"
     ]
    },
    {
     "data": {
      "text/plain": [
       "[21, 32, 15, 49, 19, 30, 50, 40, 33, 45]"
      ]
     },
     "execution_count": 3,
     "metadata": {},
     "output_type": "execute_result"
    }
   ],
   "source": [
    "print(len(input))\n",
    "input[:10]"
   ]
  },
  {
   "cell_type": "code",
   "execution_count": 4,
   "metadata": {},
   "outputs": [
    {
     "name": "stdout",
     "output_type": "stream",
     "text": [
      "0 21\n",
      "1 32\n",
      "2 15\n",
      "3 49\n",
      "4 19\n",
      "5 30\n",
      "6 50\n",
      "8 33\n",
      "10 11\n",
      "11 42\n",
      "13 10\n",
      "14 12\n",
      "15 5\n",
      "16 4\n",
      "17 1\n",
      "572 133015568\n"
     ]
    }
   ],
   "source": [
    "#maintain sets of sums and check running last 25 set\n",
    "counts = []\n",
    "for ii, item in enumerate(input):\n",
    "    number_to_sum = min(25,ii)\n",
    "    latest_sums = {item+x for x in input[(ii-number_to_sum):ii]}\n",
    "    counts.append(latest_sums)\n",
    "    if item not in set().union(*counts[(ii-number_to_sum):ii]):\n",
    "        print(ii, item)"
   ]
  },
  {
   "cell_type": "code",
   "execution_count": 6,
   "metadata": {},
   "outputs": [
    {
     "data": {
      "text/plain": [
       "[set(),\n",
       " {53},\n",
       " {36, 47},\n",
       " {64, 70, 81},\n",
       " {34, 40, 51, 68},\n",
       " {45, 49, 51, 62, 79},\n",
       " {65, 69, 71, 80, 82, 99},\n",
       " {55, 59, 61, 70, 72, 89, 90},\n",
       " {48, 52, 54, 63, 65, 73, 82, 83},\n",
       " {60, 64, 66, 75, 77, 78, 85, 94, 95}]"
      ]
     },
     "execution_count": 6,
     "metadata": {},
     "output_type": "execute_result"
    }
   ],
   "source": [
    "counts[:10]"
   ]
  },
  {
   "cell_type": "markdown",
   "metadata": {},
   "source": [
    "Part 2: Find a contingous set that DOES sum to 133015568"
   ]
  },
  {
   "cell_type": "code",
   "execution_count": 7,
   "metadata": {},
   "outputs": [],
   "source": [
    "target = 133015568"
   ]
  },
  {
   "cell_type": "code",
   "execution_count": 8,
   "metadata": {},
   "outputs": [
    {
     "name": "stdout",
     "output_type": "stream",
     "text": [
      "464 480 5636985 9458140 15095125\n"
     ]
    }
   ],
   "source": [
    "#start from nearest item and find all contigous sums until > target\n",
    "#then minus nearest and continue, loop\n",
    "running_total = 0\n",
    "current_start = 571\n",
    "for jj in range(571,-1,-1):\n",
    "    #print(jj)\n",
    "    running_total += input[jj]\n",
    "    if running_total > target:\n",
    "        #nb this needs to consider if more than one should be removed\n",
    "        while running_total > target:\n",
    "            running_total -= input[current_start]\n",
    "            current_start -=1\n",
    "    elif running_total == target:\n",
    "        print(jj,current_start, input[jj],input[current_start], input[jj]+input[current_start])\n"
   ]
  },
  {
   "cell_type": "code",
   "execution_count": 9,
   "metadata": {},
   "outputs": [
    {
     "data": {
      "text/plain": [
       "133015568"
      ]
     },
     "execution_count": 9,
     "metadata": {},
     "output_type": "execute_result"
    }
   ],
   "source": [
    "sum(input[464:481])"
   ]
  },
  {
   "cell_type": "code",
   "execution_count": 10,
   "metadata": {},
   "outputs": [
    {
     "data": {
      "text/plain": [
       "16107959"
      ]
     },
     "execution_count": 10,
     "metadata": {},
     "output_type": "execute_result"
    }
   ],
   "source": [
    "min(input[464:481]) + max(input[464:481])"
   ]
  },
  {
   "cell_type": "code",
   "execution_count": null,
   "metadata": {},
   "outputs": [],
   "source": []
  }
 ],
 "metadata": {
  "kernelspec": {
   "display_name": "Python 3",
   "language": "python",
   "name": "python3"
  },
  "language_info": {
   "codemirror_mode": {
    "name": "ipython",
    "version": 3
   },
   "file_extension": ".py",
   "mimetype": "text/x-python",
   "name": "python",
   "nbconvert_exporter": "python",
   "pygments_lexer": "ipython3",
   "version": "3.7.1"
  }
 },
 "nbformat": 4,
 "nbformat_minor": 4
}
