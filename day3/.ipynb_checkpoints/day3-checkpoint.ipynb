{
 "cells": [
  {
   "cell_type": "code",
   "execution_count": 11,
   "metadata": {},
   "outputs": [],
   "source": [
    "import re"
   ]
  },
  {
   "cell_type": "code",
   "execution_count": 5,
   "metadata": {},
   "outputs": [],
   "source": [
    "\n",
    "#part 1\n",
    "#find trees encountered while moving 3 right 1 down each step\n",
    "day3input=open(\"input.txt\")\n",
    "input = day3input.readlines()\n",
    "input = [x.strip() for x in input]\n"
   ]
  },
  {
   "cell_type": "code",
   "execution_count": 6,
   "metadata": {},
   "outputs": [
    {
     "name": "stdout",
     "output_type": "stream",
     "text": [
      "323\n"
     ]
    },
    {
     "data": {
      "text/plain": [
       "'.##.............##......#.....#'"
      ]
     },
     "execution_count": 6,
     "metadata": {},
     "output_type": "execute_result"
    }
   ],
   "source": [
    "print(len(input))\n",
    "input[0]"
   ]
  },
  {
   "cell_type": "code",
   "execution_count": 19,
   "metadata": {},
   "outputs": [
    {
     "name": "stdout",
     "output_type": "stream",
     "text": [
      "176\n"
     ]
    }
   ],
   "source": [
    "tree_count = 0\n",
    "(x,y)=(0,0)\n",
    "while y<len(input):\n",
    "    #print(x,y)\n",
    "    if input[y][x]=='#':\n",
    "        tree_count += 1\n",
    "    (x,y)=((x+3)%len(input[0]),(y+1))\n",
    "        \n",
    "print(tree_count)"
   ]
  },
  {
   "cell_type": "code",
   "execution_count": 22,
   "metadata": {},
   "outputs": [
    {
     "name": "stdout",
     "output_type": "stream",
     "text": [
      "176\n",
      "85\n",
      "96\n",
      "87\n",
      "47\n",
      "[176, 85, 96, 87, 47]\n"
     ]
    }
   ],
   "source": [
    "#part 2 check other slopes\n",
    "slopes = [(3,1),(1,1),(5,1),(7,1),(1,2)]\n",
    "tree_counts = [0,0,0,0,0]\n",
    "for i, slope in enumerate(slopes):\n",
    "    #reset toboggan\n",
    "    (x,y)=(0,0)\n",
    "    while y<len(input):\n",
    "        #print(x,y)\n",
    "        if input[y][x]=='#':\n",
    "            tree_counts[i] += 1\n",
    "        (x,y)=((x+slope[0])%len(input[0]),(y+slope[1]))\n",
    "\n",
    "    print(tree_counts[i])\n",
    "    \n",
    "print(tree_counts)"
   ]
  },
  {
   "cell_type": "code",
   "execution_count": 25,
   "metadata": {},
   "outputs": [
    {
     "name": "stdout",
     "output_type": "stream",
     "text": [
      "5872458240\n"
     ]
    }
   ],
   "source": [
    "from functools import reduce\n",
    "product = reduce((lambda x, y: x * y), tree_counts)\n",
    "print(product)"
   ]
  }
 ],
 "metadata": {
  "kernelspec": {
   "display_name": "Python 3",
   "language": "python",
   "name": "python3"
  },
  "language_info": {
   "codemirror_mode": {
    "name": "ipython",
    "version": 3
   },
   "file_extension": ".py",
   "mimetype": "text/x-python",
   "name": "python",
   "nbconvert_exporter": "python",
   "pygments_lexer": "ipython3",
   "version": "3.7.1"
  }
 },
 "nbformat": 4,
 "nbformat_minor": 2
}
