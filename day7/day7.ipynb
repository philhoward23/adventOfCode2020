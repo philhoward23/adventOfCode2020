{
 "cells": [
  {
   "cell_type": "markdown",
   "metadata": {},
   "source": [
    "How many bag colors can eventually contain at least one shiny gold bag?"
   ]
  },
  {
   "cell_type": "code",
   "execution_count": 1,
   "metadata": {},
   "outputs": [],
   "source": [
    "day7input=open(\"input.txt\")\n",
    "input = day7input.readlines()\n",
    "input = [x.strip() for x in input]\n"
   ]
  },
  {
   "cell_type": "code",
   "execution_count": 4,
   "metadata": {},
   "outputs": [
    {
     "name": "stdout",
     "output_type": "stream",
     "text": [
      "594\n"
     ]
    },
    {
     "data": {
      "text/plain": [
       "['striped beige bags contain 5 dull beige bags.',\n",
       " 'dark turquoise bags contain 4 dark bronze bags, 3 posh tan bags.',\n",
       " 'mirrored turquoise bags contain 2 dim crimson bags, 4 clear crimson bags, 1 dotted blue bag.',\n",
       " 'striped gray bags contain 4 muted violet bags, 1 clear fuchsia bag, 2 dull violet bags.',\n",
       " 'bright cyan bags contain 4 dim aqua bags, 4 vibrant salmon bags.',\n",
       " 'dark aqua bags contain 4 dim brown bags.',\n",
       " 'dull magenta bags contain 5 dim plum bags, 5 dark coral bags, 3 mirrored white bags, 3 posh teal bags.',\n",
       " 'dull silver bags contain 4 dull crimson bags.',\n",
       " 'dull blue bags contain 1 shiny violet bag, 4 plaid magenta bags, 4 dull green bags.',\n",
       " 'muted white bags contain 4 dark aqua bags, 4 pale red bags, 1 striped maroon bag, 1 striped tomato bag.']"
      ]
     },
     "execution_count": 4,
     "metadata": {},
     "output_type": "execute_result"
    }
   ],
   "source": [
    "print(len(input))\n",
    "input[:10]"
   ]
  },
  {
   "cell_type": "code",
   "execution_count": 34,
   "metadata": {},
   "outputs": [],
   "source": [
    "#try putting bags in a dictionary with keys a colour and values a dictionary of colours and quantities that key holds\n",
    "bag_rules = {}\n",
    "for rule in input:\n",
    "    current_rules = rule.split(\", \")\n",
    "    tmp = current_rules[0].split(\" bags contain \")\n",
    "    key = tmp[0] \n",
    "    current_rules[0] = tmp[1]\n",
    "    if key not in bag_rules:\n",
    "        bag_rules[key]={}\n",
    "    if current_rules[0][:2] != 'no':   \n",
    "        for value in current_rules:\n",
    "            #parse into number, colour, bag*\n",
    "            value = value.split()\n",
    "            number, colour  = int(value[0]), value[1]+\" \"+value[2] \n",
    "            if colour not in bag_rules[key]:\n",
    "                bag_rules[key][colour]=0\n",
    "            bag_rules[key][colour]+=number"
   ]
  },
  {
   "cell_type": "code",
   "execution_count": 35,
   "metadata": {},
   "outputs": [],
   "source": [
    "#search bag_rules for colours that can contain shiny gold\n",
    "#then search for all those colours, repeat\n",
    "bags_with_gold = {}\n",
    "for colour in bag_rules:\n",
    "    if 'shiny gold' in bag_rules[colour]:\n",
    "        bags_with_gold[colour]=True"
   ]
  },
  {
   "cell_type": "code",
   "execution_count": 36,
   "metadata": {},
   "outputs": [
    {
     "data": {
      "text/plain": [
       "{'dotted indigo': True,\n",
       " 'light coral': True,\n",
       " 'bright orange': True,\n",
       " 'clear gold': True}"
      ]
     },
     "execution_count": 36,
     "metadata": {},
     "output_type": "execute_result"
    }
   ],
   "source": [
    "bags_with_gold"
   ]
  },
  {
   "cell_type": "code",
   "execution_count": 70,
   "metadata": {},
   "outputs": [
    {
     "name": "stdout",
     "output_type": "stream",
     "text": [
      "1\n"
     ]
    }
   ],
   "source": [
    "n=0\n",
    "while True:\n",
    "    n+=1\n",
    "    print(n)\n",
    "    count = len(bags_with_gold)\n",
    "    for colour_with_gold in list(bags_with_gold.keys()):\n",
    "        for colour in bag_rules:\n",
    "            if colour_with_gold in bag_rules[colour]:\n",
    "                bags_with_gold[colour]=True\n",
    "    if len(bags_with_gold) == count:\n",
    "        break\n"
   ]
  },
  {
   "cell_type": "code",
   "execution_count": 71,
   "metadata": {},
   "outputs": [
    {
     "data": {
      "text/plain": [
       "101"
      ]
     },
     "execution_count": 71,
     "metadata": {},
     "output_type": "execute_result"
    }
   ],
   "source": [
    "len(bags_with_gold)"
   ]
  },
  {
   "cell_type": "markdown",
   "metadata": {},
   "source": [
    "part 2: How many individual bags are required inside your single shiny gold bag?"
   ]
  },
  {
   "cell_type": "code",
   "execution_count": 72,
   "metadata": {},
   "outputs": [
    {
     "data": {
      "text/plain": [
       "{'faded salmon': 0,\n",
       " 'bright black': 0,\n",
       " 'dim brown': 0,\n",
       " 'dull beige': 0,\n",
       " 'dim lime': 0,\n",
       " 'vibrant olive': 0,\n",
       " 'light fuchsia': 0,\n",
       " 'shiny silver': 0,\n",
       " 'mirrored lime': 0,\n",
       " 'striped purple': 0}"
      ]
     },
     "execution_count": 72,
     "metadata": {},
     "output_type": "execute_result"
    }
   ],
   "source": [
    "#add bag counts recursively, starting from leaves of tree\n",
    "bag_counts = {key:0 for key in bag_rules if bag_rules[key]=={} }\n",
    "bag_counts"
   ]
  },
  {
   "cell_type": "code",
   "execution_count": 76,
   "metadata": {},
   "outputs": [
    {
     "name": "stdout",
     "output_type": "stream",
     "text": [
      "1\n"
     ]
    }
   ],
   "source": [
    "n=0\n",
    "while True:\n",
    "    n+=1\n",
    "    print(n)\n",
    "    if len(bag_rules) == len(bag_counts):\n",
    "        break\n",
    "    for colour in bag_rules:\n",
    "        #count if all contained bags have a count\n",
    "        if all(tmp_colour in list(bag_counts.keys()) for tmp_colour in bag_rules[colour]):\n",
    "            #ok to add this count \n",
    "            #add 1 to count bag itself\n",
    "            #print(bag_rules[colour])\n",
    "            bag_counts[colour]= sum([bag_rules[colour][contained_colour]*(1+bag_counts[contained_colour]) for contained_colour in bag_rules[colour]])\n",
    "            #print(bag_counts[colour])\n"
   ]
  },
  {
   "cell_type": "code",
   "execution_count": 77,
   "metadata": {},
   "outputs": [
    {
     "data": {
      "text/plain": [
       "{'bright turquoise': 3,\n",
       " 'striped purple': 1,\n",
       " 'mirrored white': 5,\n",
       " 'bright teal': 1}"
      ]
     },
     "execution_count": 77,
     "metadata": {},
     "output_type": "execute_result"
    }
   ],
   "source": [
    "bag_rules['shiny gold']"
   ]
  },
  {
   "cell_type": "code",
   "execution_count": 79,
   "metadata": {},
   "outputs": [
    {
     "name": "stdout",
     "output_type": "stream",
     "text": [
      "594\n"
     ]
    },
    {
     "data": {
      "text/plain": [
       "108636"
      ]
     },
     "execution_count": 79,
     "metadata": {},
     "output_type": "execute_result"
    }
   ],
   "source": [
    "print(len(bag_counts))\n",
    "bag_counts['shiny gold']"
   ]
  },
  {
   "cell_type": "code",
   "execution_count": null,
   "metadata": {},
   "outputs": [],
   "source": []
  },
  {
   "cell_type": "code",
   "execution_count": null,
   "metadata": {},
   "outputs": [],
   "source": []
  },
  {
   "cell_type": "code",
   "execution_count": null,
   "metadata": {},
   "outputs": [],
   "source": []
  }
 ],
 "metadata": {
  "kernelspec": {
   "display_name": "Python 3",
   "language": "python",
   "name": "python3"
  },
  "language_info": {
   "codemirror_mode": {
    "name": "ipython",
    "version": 3
   },
   "file_extension": ".py",
   "mimetype": "text/x-python",
   "name": "python",
   "nbconvert_exporter": "python",
   "pygments_lexer": "ipython3",
   "version": "3.7.1"
  }
 },
 "nbformat": 4,
 "nbformat_minor": 2
}
