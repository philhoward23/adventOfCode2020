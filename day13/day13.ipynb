{
 "cells": [
  {
   "cell_type": "markdown",
   "metadata": {},
   "source": [
    "Part 1: find earliest bus you can catch to airport"
   ]
  },
  {
   "cell_type": "code",
   "execution_count": 89,
   "metadata": {},
   "outputs": [],
   "source": [
    "input=open(\"input.txt\")\n",
    "input = input.readlines()\n",
    "input = [x.strip().split(',') for x in input]\n"
   ]
  },
  {
   "cell_type": "code",
   "execution_count": 90,
   "metadata": {},
   "outputs": [
    {
     "name": "stdout",
     "output_type": "stream",
     "text": [
      "2\n",
      "98\n",
      "[['1000001'], ['29', 'x', 'x', 'x', 'x', 'x', 'x', 'x', 'x', 'x', 'x', 'x', 'x', 'x', 'x', 'x', 'x', 'x', 'x', '41', 'x', 'x', 'x', 'x', 'x', 'x', 'x', 'x', 'x', '577', 'x', 'x', 'x', 'x', 'x', 'x', 'x', 'x', 'x', 'x', 'x', 'x', '13', '17', 'x', 'x', 'x', 'x', '19', 'x', 'x', 'x', '23', 'x', 'x', 'x', 'x', 'x', 'x', 'x', '601', 'x', 'x', 'x', 'x', 'x', 'x', 'x', 'x', 'x', 'x', 'x', 'x', 'x', 'x', 'x', 'x', 'x', 'x', 'x', 'x', 'x', 'x', 'x', 'x', 'x', 'x', 'x', 'x', 'x', 'x', 'x', 'x', 'x', 'x', 'x', 'x', '37']]\n"
     ]
    }
   ],
   "source": [
    "print(len(input))\n",
    "print(len(input[1]))\n",
    "print(input[:10])"
   ]
  },
  {
   "cell_type": "code",
   "execution_count": 91,
   "metadata": {},
   "outputs": [],
   "source": [
    "earliest = int(input[0][0])"
   ]
  },
  {
   "cell_type": "code",
   "execution_count": 92,
   "metadata": {},
   "outputs": [
    {
     "data": {
      "text/plain": [
       "1000001"
      ]
     },
     "execution_count": 92,
     "metadata": {},
     "output_type": "execute_result"
    }
   ],
   "source": [
    "earliest"
   ]
  },
  {
   "cell_type": "code",
   "execution_count": 93,
   "metadata": {},
   "outputs": [
    {
     "name": "stdout",
     "output_type": "stream",
     "text": [
      "29\n"
     ]
    },
    {
     "data": {
      "text/plain": [
       "'37'"
      ]
     },
     "execution_count": 93,
     "metadata": {},
     "output_type": "execute_result"
    }
   ],
   "source": [
    "closest = -1\n",
    "for bus in input[1]:\n",
    "    if bus != 'x':\n",
    "        if (closest < 0) or (int(bus)-(earliest % int(bus)) < closest):\n",
    "            closest = (int(bus)-(earliest % int(bus)))\n",
    "            print(bus)\n",
    "            closest_bus = int(bus)\n",
    "\n",
    "bus\n",
    "    "
   ]
  },
  {
   "cell_type": "code",
   "execution_count": 94,
   "metadata": {},
   "outputs": [
    {
     "data": {
      "text/plain": [
       "6"
      ]
     },
     "execution_count": 94,
     "metadata": {},
     "output_type": "execute_result"
    }
   ],
   "source": [
    "closest"
   ]
  },
  {
   "cell_type": "code",
   "execution_count": 95,
   "metadata": {},
   "outputs": [
    {
     "name": "stdout",
     "output_type": "stream",
     "text": [
      "174\n"
     ]
    }
   ],
   "source": [
    "print(closest*closest_bus)"
   ]
  },
  {
   "cell_type": "markdown",
   "metadata": {},
   "source": [
    "The shuttle company is running a contest: one gold coin for anyone that can find the earliest timestamp such that the first bus ID departs at that time and each subsequent listed bus ID departs at that subsequent minute. (The first line in your input is no longer relevant.)"
   ]
  },
  {
   "cell_type": "code",
   "execution_count": 96,
   "metadata": {},
   "outputs": [],
   "source": [
    "#conditions:\n",
    "def is_soln(number):\n",
    "    for ii, bus in enumerate(input[1]):\n",
    "        if bus != 'x':\n",
    "            #find how many minutes before number it arrived\n",
    "            arr = number % int(bus)\n",
    "            #does that match requirement\n",
    "            if  (ii + arr) % int(bus) != 0:\n",
    "                return(False)\n",
    "            print(ii, bus, number % int(bus))\n",
    "    return(True)"
   ]
  },
  {
   "cell_type": "code",
   "execution_count": 97,
   "metadata": {},
   "outputs": [
    {
     "data": {
      "text/plain": [
       "False"
      ]
     },
     "execution_count": 97,
     "metadata": {},
     "output_type": "execute_result"
    }
   ],
   "source": [
    "is_soln(1068781)"
   ]
  },
  {
   "cell_type": "markdown",
   "metadata": {},
   "source": [
    "Find numbers such that number % 7 == 0 and number % 13 == 12"
   ]
  },
  {
   "cell_type": "code",
   "execution_count": 98,
   "metadata": {},
   "outputs": [
    {
     "name": "stdout",
     "output_type": "stream",
     "text": [
      "77\n",
      "168\n",
      "259\n",
      "350\n",
      "441\n"
     ]
    }
   ],
   "source": [
    "number = 0\n",
    "count = 0\n",
    "while count<5:\n",
    "    if (number % 7 ==0) and (number % 13 == 12):\n",
    "        print(number)\n",
    "        count+=1\n",
    "    number +=1\n"
   ]
  },
  {
   "cell_type": "markdown",
   "metadata": {},
   "source": [
    "Loop through buses, constructing a solution that works with those so far"
   ]
  },
  {
   "cell_type": "code",
   "execution_count": 99,
   "metadata": {},
   "outputs": [
    {
     "name": "stdout",
     "output_type": "stream",
     "text": [
      "0 29 29 0\n",
      "19 41 145 22\n",
      "29 577 33437 548\n",
      "42 13 8266073 10\n",
      "43 17 88534274 8\n",
      "48 19 2211182256 9\n",
      "52 23 28137811179 17\n",
      "60 601 24013150301501 541\n",
      "97 37 780601154795940 14\n"
     ]
    }
   ],
   "source": [
    "number = 0\n",
    "increment = 1\n",
    "for ii, bus in enumerate(input[1]):\n",
    "    if bus != 'x':\n",
    "        #find a number consistent with previous that makes this one arrive at ii minutes past\n",
    "        counter = number\n",
    "        while True:\n",
    "            counter += increment\n",
    "            if (ii + (counter % int(bus))) % int(bus) == 0:\n",
    "                number = counter\n",
    "                increment *= int(bus)\n",
    "                break\n",
    "                \n",
    "            \n",
    "        print(ii, bus, number, number % int(bus))\n"
   ]
  },
  {
   "cell_type": "code",
   "execution_count": null,
   "metadata": {},
   "outputs": [],
   "source": []
  }
 ],
 "metadata": {
  "kernelspec": {
   "display_name": "Python 3",
   "language": "python",
   "name": "python3"
  },
  "language_info": {
   "codemirror_mode": {
    "name": "ipython",
    "version": 3
   },
   "file_extension": ".py",
   "mimetype": "text/x-python",
   "name": "python",
   "nbconvert_exporter": "python",
   "pygments_lexer": "ipython3",
   "version": "3.7.1"
  }
 },
 "nbformat": 4,
 "nbformat_minor": 2
}
