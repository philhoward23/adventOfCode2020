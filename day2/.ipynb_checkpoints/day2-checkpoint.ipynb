{
 "cells": [
  {
   "cell_type": "code",
   "execution_count": 11,
   "metadata": {},
   "outputs": [],
   "source": [
    "import re"
   ]
  },
  {
   "cell_type": "code",
   "execution_count": 29,
   "metadata": {},
   "outputs": [],
   "source": [
    "\n",
    "#part 1\n",
    "#find violations of password policy\n",
    "day2input=open(\"input.txt\")\n",
    "input = day2input.readlines()\n",
    "input_lists = [re.split('[-: ]+',x.strip()) for x in input]\n"
   ]
  },
  {
   "cell_type": "code",
   "execution_count": 31,
   "metadata": {},
   "outputs": [],
   "source": [
    "input_lists = [(int(x[0]),int(x[1]),x[2],x[3]) for x in input_lists]"
   ]
  },
  {
   "cell_type": "code",
   "execution_count": 33,
   "metadata": {},
   "outputs": [
    {
     "data": {
      "text/plain": [
       "[(2, 4, 'r', 'prrmspx'),\n",
       " (5, 6, 'p', 'hpzplphxb'),\n",
       " (5, 8, 't', 'ttttbtttttc'),\n",
       " (1, 6, 'k', 'kkkkkk'),\n",
       " (1, 3, 'q', 'qqqq'),\n",
       " (4, 8, 't', 'pctpfqtrtttmvptvfmws'),\n",
       " (3, 5, 'z', 'zznzslv'),\n",
       " (12, 14, 'h', 'hhhhhhhhhhhhhhhh'),\n",
       " (14, 15, 'v', 'vvvvvvvvhvvvvdmvv'),\n",
       " (8, 17, 'x', 'xxxxxxdxxxxxxxckxx')]"
      ]
     },
     "execution_count": 33,
     "metadata": {},
     "output_type": "execute_result"
    }
   ],
   "source": [
    "len(input)\n",
    "input_lists[:10]"
   ]
  },
  {
   "cell_type": "code",
   "execution_count": 39,
   "metadata": {},
   "outputs": [
    {
     "data": {
      "text/plain": [
       "9"
      ]
     },
     "execution_count": 39,
     "metadata": {},
     "output_type": "execute_result"
    }
   ],
   "source": [
    "testcase = input_lists[2]\n",
    "len(re.findall('['+testcase[2]+']',testcase[3]))"
   ]
  },
  {
   "cell_type": "code",
   "execution_count": 44,
   "metadata": {},
   "outputs": [],
   "source": [
    "#part 1: a-b instances of c in d\n",
    "input_valid = [testcase for testcase in input_lists if testcase[0] <= len(re.findall('['+testcase[2]+']',testcase[3])) <= testcase[1]]"
   ]
  },
  {
   "cell_type": "code",
   "execution_count": 45,
   "metadata": {},
   "outputs": [
    {
     "data": {
      "text/plain": [
       "467"
      ]
     },
     "execution_count": 45,
     "metadata": {},
     "output_type": "execute_result"
    }
   ],
   "source": [
    "len(input_valid)"
   ]
  },
  {
   "cell_type": "code",
   "execution_count": 53,
   "metadata": {},
   "outputs": [
    {
     "data": {
      "text/plain": [
       "'t'"
      ]
     },
     "execution_count": 53,
     "metadata": {},
     "output_type": "execute_result"
    }
   ],
   "source": [
    "testcase[3][testcase[1]+1]"
   ]
  },
  {
   "cell_type": "code",
   "execution_count": 56,
   "metadata": {},
   "outputs": [],
   "source": [
    "#part 2 c appears at a XOR b in d\n",
    "input_valid_2 = [testcase for testcase in input_lists if (testcase[3][testcase[0]-1] == testcase[2]) ^ (testcase[3][testcase[1]-1] == testcase[2])]"
   ]
  },
  {
   "cell_type": "code",
   "execution_count": 57,
   "metadata": {},
   "outputs": [
    {
     "data": {
      "text/plain": [
       "441"
      ]
     },
     "execution_count": 57,
     "metadata": {},
     "output_type": "execute_result"
    }
   ],
   "source": [
    "len(input_valid_2)"
   ]
  }
 ],
 "metadata": {
  "kernelspec": {
   "display_name": "Python 3",
   "language": "python",
   "name": "python3"
  },
  "language_info": {
   "codemirror_mode": {
    "name": "ipython",
    "version": 3
   },
   "file_extension": ".py",
   "mimetype": "text/x-python",
   "name": "python",
   "nbconvert_exporter": "python",
   "pygments_lexer": "ipython3",
   "version": "3.7.1"
  }
 },
 "nbformat": 4,
 "nbformat_minor": 2
}
