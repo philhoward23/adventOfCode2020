{
 "cells": [
  {
   "cell_type": "markdown",
   "metadata": {},
   "source": [
    "Part 1: find 2020th number in sequence.\n",
    "\n",
    "each turn consists of considering the most recently spoken number:\n",
    "\n",
    "If that was the first time the number has been spoken, the current player says 0.\n",
    "Otherwise, the number had been spoken before; the current player announces how many turns apart the number is from when it was previously spoken."
   ]
  },
  {
   "cell_type": "code",
   "execution_count": 36,
   "metadata": {},
   "outputs": [],
   "source": [
    "input = [13,0,10,12,1,5,8]\n",
    "test_input = [0,3,6]"
   ]
  },
  {
   "cell_type": "code",
   "execution_count": 37,
   "metadata": {},
   "outputs": [
    {
     "name": "stdout",
     "output_type": "stream",
     "text": [
      "260\n"
     ]
    }
   ],
   "source": [
    "#create dictionary with each number said and when\n",
    "numbers = {}\n",
    "for ii in range(2020):\n",
    "    if ii < len(input):\n",
    "        number = input[ii]\n",
    "        new = True\n",
    "    elif new:\n",
    "        number = 0\n",
    "        new = False\n",
    "    else:\n",
    "        number = ii - 1 - numbers[number]\n",
    "        new = False if number in numbers else True\n",
    "    if ii > 0:\n",
    "        numbers[last_number] = ii - 1\n",
    "    last_number = number\n",
    "    \n",
    "print(number)\n"
   ]
  },
  {
   "cell_type": "markdown",
   "metadata": {},
   "source": [
    "Part 2: Impressed, the Elves issue you a challenge: determine the 30000000th number"
   ]
  },
  {
   "cell_type": "code",
   "execution_count": 38,
   "metadata": {},
   "outputs": [],
   "source": [
    "target = 30000000"
   ]
  },
  {
   "cell_type": "code",
   "execution_count": 39,
   "metadata": {},
   "outputs": [
    {
     "name": "stdout",
     "output_type": "stream",
     "text": [
      "0\n",
      "1000000\n",
      "2000000\n",
      "3000000\n",
      "4000000\n",
      "5000000\n",
      "6000000\n",
      "7000000\n",
      "8000000\n",
      "9000000\n",
      "10000000\n",
      "11000000\n",
      "12000000\n",
      "13000000\n",
      "14000000\n",
      "15000000\n",
      "16000000\n",
      "17000000\n",
      "18000000\n",
      "19000000\n",
      "20000000\n",
      "21000000\n",
      "22000000\n",
      "23000000\n",
      "24000000\n",
      "25000000\n",
      "26000000\n",
      "27000000\n",
      "28000000\n",
      "29000000\n",
      "950\n"
     ]
    }
   ],
   "source": [
    "#create dictionary with each number said and when\n",
    "numbers = {}\n",
    "for ii in range(target):\n",
    "    if ii < len(input):\n",
    "        number = input[ii]\n",
    "        new = True\n",
    "    elif new:\n",
    "        number = 0\n",
    "        new = False\n",
    "    else:\n",
    "        number = ii - 1 - numbers[number]\n",
    "        new = False if number in numbers else True\n",
    "    if ii > 0:\n",
    "        numbers[last_number] = ii - 1\n",
    "    last_number = number\n",
    "    if ii %1000000 == 0:\n",
    "        print(ii)\n",
    "print(number)\n"
   ]
  },
  {
   "cell_type": "code",
   "execution_count": null,
   "metadata": {},
   "outputs": [],
   "source": []
  }
 ],
 "metadata": {
  "kernelspec": {
   "display_name": "Python 3",
   "language": "python",
   "name": "python3"
  },
  "language_info": {
   "codemirror_mode": {
    "name": "ipython",
    "version": 3
   },
   "file_extension": ".py",
   "mimetype": "text/x-python",
   "name": "python",
   "nbconvert_exporter": "python",
   "pygments_lexer": "ipython3",
   "version": "3.7.1"
  }
 },
 "nbformat": 4,
 "nbformat_minor": 2
}
